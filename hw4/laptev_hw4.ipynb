{
 "cells": [
  {
   "cell_type": "markdown",
   "metadata": {},
   "source": [
    "# Алгоритмы интеллектуальной обработки больших объемов данных\n",
    "## Домашнее задание №4 - Алгоритмы кластеризации\n"
   ]
  },
  {
   "cell_type": "markdown",
   "metadata": {},
   "source": [
    "###### <hr\\>\n",
    "**Общая информация**\n",
    "\n",
    "**Срок сдачи:** 10 декабря 2019, 06:00 <br\\>\n",
    "**Штраф за опоздание:** -2 балла после 06:00 10 декабря, -4 балла после 06:00 17 декабря, -6 баллов после 06:00 24 декабря -8 баллов  после 06:00 31 декабря\n",
    "\n",
    "При отправлении ДЗ указывайте фамилию в названии файла Присылать ДЗ необходимо в виде ссылки на свой github репозиторий на почту ml1.sphere@mail.ru с указанием темы в следующем формате:\n",
    "[ML0919, Задание 4] Фамилия Имя\n",
    "\n",
    "Используйте данный Ipython Notebook при оформлении домашнего задания.\n",
    "<hr\\>"
   ]
  },
  {
   "cell_type": "markdown",
   "metadata": {},
   "source": [
    "**Из чего состоит задание:**\n",
    "\n",
    "###### Теоретические вопросы (2 балла)\n",
    "\n",
    "###### Реализация алгоритма кластеризации (5 баллов)\n",
    "\n",
    "###### Боевое применение (3 балла)\n",
    "\n",
    "\n"
   ]
  },
  {
   "cell_type": "markdown",
   "metadata": {},
   "source": [
    "**Штрафные баллы:**\n",
    "\n",
    "1. Невыполнение PEP8 -1 балл\n",
    "2. Отсутствие фамилии в имени скрипта (скрипт должен называться по аналогии со stroykova_hw4.ipynb) -1 балл\n",
    "3. Все строчки должны быть выполнены. Нужно, чтобы output команды можно было увидеть уже в git'е. В противном случае -1 балл\n",
    "4. При оформлении ДЗ нужно пользоваться данным файлом в качестве шаблона. Не нужно удалять и видоизменять написанный код и текст. В противном случае -1 балл"
   ]
  },
  {
   "cell_type": "code",
   "execution_count": 7,
   "metadata": {},
   "outputs": [
    {
     "name": "stdout",
     "output_type": "stream",
     "text": [
      "Populating the interactive namespace from numpy and matplotlib\n"
     ]
    }
   ],
   "source": [
    "import time\n",
    "import pandas as pd\n",
    "import pylab as pl\n",
    "import numpy as np\n",
    "import scipy.spatial as ss\n",
    "import sklearn.cluster as sc\n",
    "import sklearn.manifold as sm\n",
    "import sklearn.datasets as ds\n",
    "import sklearn.metrics as smt\n",
    "from sklearn.mixture import GaussianMixture\n",
    "from sklearn.cluster import AgglomerativeClustering\n",
    "from sklearn.neighbors import DistanceMetric\n",
    "from scipy.cluster.hierarchy import dendrogram, linkage\n",
    "from scipy.spatial import distance\n",
    "\n",
    "import matplotlib.pyplot as plt\n",
    "\n",
    "%matplotlib inline\n",
    "\n",
    "plt.style.use('ggplot')\n",
    "plt.rcParams['figure.figsize'] = (12,5)\n",
    "\n",
    "# Plotting config\n",
    "%pylab inline"
   ]
  },
  {
   "cell_type": "code",
   "execution_count": 8,
   "metadata": {},
   "outputs": [],
   "source": [
    "%load_ext cython\n",
    "%load_ext pycodestyle_magic\n",
    "%flake8_on"
   ]
  },
  {
   "cell_type": "markdown",
   "metadata": {},
   "source": [
    "# Теоретическое введение\n"
   ]
  },
  {
   "cell_type": "markdown",
   "metadata": {},
   "source": [
    "Основная задача кластерного анализа — разбиение исходного набора объектов на группы (кластеры) таким образом, чтобы объекты в группе были похожи друг на друга, а объекты из разных групп - отличались. \n",
    "\n",
    "В этой работе мы будем реализовывать агломеративную кластеризацию. "
   ]
  },
  {
   "cell_type": "markdown",
   "metadata": {
    "collapsed": true
   },
   "source": [
    "## Агломеративная кластеризация"
   ]
  },
  {
   "cell_type": "markdown",
   "metadata": {},
   "source": [
    "Иерархические алгоритмы кластеризации строят на выборке систему вложенных разбиений.  Наиболее часто испоьзуемые иерархические алгоритмы - агломеративные алгоритмы, которые строят ирархию по восходящей, то есть от момента, когда все элементы являются отдельными кластерами, до того момента, пока вся выборка не станет одним кластером."
   ]
  },
  {
   "cell_type": "markdown",
   "metadata": {},
   "source": [
    "Сам алгоритм описать можно примерно так:\n",
    "\n",
    "* начинаем с ситуации, когда каждый объект - отдельный кластер\n",
    "* на каждом шаге совмещаем два наиболее близких кластера\n",
    "* останавливаемся, когда получаем требуемое количество или единственный кластер"
   ]
  },
  {
   "cell_type": "markdown",
   "metadata": {},
   "source": [
    "\n",
    "В данной работе Вам предлагается реализовать три варианта расстояний между кластерами, по которым Вы определяете пару для слияния: \n",
    "* Single linkage\n",
    "$$ d_{min}(C_i, C_j) = \\min_{\\mathbf{x} \\in C_i, \\mathbf{x}' \\in C_j} \\|\\mathbf{x} -\\mathbf{x}' \\| $$\n",
    "\n",
    "* Complete linkage\n",
    "$$ d_{max}(C_i, C_j) = \\max_{\\mathbf{x} \\in C_i, \\mathbf{x}' \\in C_j} \\|\\mathbf{x} -\\mathbf{x}' \\| $$\n",
    "\n",
    "* Average linkage\n",
    "$$ d_{avg}(C_i, C_j) = \\frac{1}{n_i n_j}\\sum_{\\mathbf{x} \\in C_i}\\sum_{\\mathbf{x}' \\in C_j} \\|\\mathbf{x} -\\mathbf{x}' \\| $$\n",
    "\n",
    "Как считать расстояние $\\|\\mathbf{x} -\\mathbf{x}' \\|$ между объектами Вы должны выбрать сами.  Вы должны четко понимать, что выбор расстояния между объектами - самое важное в такого рода алгоритмах. Передавайте название расстояния в конструктор класса, а потом, в зависимости от названия, применяете ту или иную функцию для подсчета расстояния. \n",
    "\n"
   ]
  },
  {
   "cell_type": "markdown",
   "metadata": {},
   "source": [
    "Для того, чтобы на втором этапе нам не пересчитывать заново расстояния между всеми парами кластеров, можно использовать Формулы Ланса-Вильямса, которые позволяют посчитать расстояние между кластерами после объединения, используя только расстояния между кластерами до объедения.  Таким образом, достаточно будет посчитать расстояния только между всеми одноэлементными кластерами (первый этап), а затем пересчитывать расстояния при их объединении через \n",
    "формулы Ланса-Вильямса. \n",
    "\n",
    "Общая  формула выглядит так:\n",
    "$$ d(C_i \\cup C_j, C_k) = a_i \\cdot d(C_i, C_k) + a_j \\cdot d(C_j, C_k) + b \\cdot d(C_i, C_j) + c \\cdot |d(C_i, C_k) - d(C_j, C_k)|$$\n",
    "\n",
    "Можно показать, что все относительно разумные кластерные расстояния можно описать данной формулой. \n",
    "\n",
    "Для интересущих нас linkage:\n",
    "\n",
    "* single-linkage       $a_i = \\frac{1}{2}, a_j =  \\frac{1}{2}, b = 0, c =  - \\frac{1}{2} $\n",
    "\n",
    "* complete-linkage     $a_i = \\frac{1}{2}, a_j =  \\frac{1}{2}, b = 0, c =   \\frac{1}{2} $\n",
    "\n",
    "* average-linkage       $a_i = \\frac{|C_i|}{|C_i \\cup C_j|}, a_j =  \\frac{|C_j|}{|C_i \\cup C_j|}, b = 0, c = 0 $\n",
    "\n"
   ]
  },
  {
   "cell_type": "markdown",
   "metadata": {},
   "source": [
    "# Теоретические вопросы (2 балла)\n",
    "В этой части Вам будут предложены теоретичские вопросы и задачи по теме. Вы, конечно, можете списать их у своего товарища или найти решение в интернете, но учтите, что они обязательно войдут в теоретический коллоквиум. Лучше разобраться в теме сейчас и успешно ответить на коллоквиуме, чем списать, не разобравшись в материале, и быть терзаемым совестью. \n",
    "\n",
    "\n",
    "Формулы надо оформлять в формате **LaTeX**."
   ]
  },
  {
   "cell_type": "markdown",
   "metadata": {},
   "source": [
    "Задача 1. Сходимость kmeans.\n",
    "\n",
    "Докажите, что kmeans всегда сходится, и итераций не будет превышать $k^N$, где $k$ $-$ число кластеров, $N$ $-$ число объектов\n",
    "\n",
    "Подсказка: Вам стоит рассмотреть функционал, который минимизирует алгоритм, и подумать, как он изменяется на E шаге и на M шаге.\n",
    "\n"
   ]
  },
  {
   "cell_type": "markdown",
   "metadata": {},
   "source": [
    "Разбиение упорядоченного множества из $N$ объектов на $k$ групп при условии того, что группы могут содержат в себе от 0 до $N$ элементов,  можно представить в виде строки длины $N$, где на каждой позиции находится число от 1 до $k$. Всего таких строк $k^N$.\n",
    "\n",
    "Отметим, что на каждой итерации алгоритма мы вычисляем новое разбиение, основываясь только на предыдущем разбиении, причем новое разбиение всегда *не хуже* (в смысле оценки качества разбиения) предыдущего. Поэтому у нас возможны две ситуации:\n",
    "1. На новой итерации у нас получается новое разбиение, которое не хуже предыдущего\n",
    "2. На новой итерации у нас такое же разбиение - алгоритм сошелся\n",
    "\n",
    "То, что новое разбиение у нас не хуже предыдущего гарантирует, что на каждой итерации мы будем получать новое разбиение, пока алгоритм не сойдется. Всего, как отмечено выше, существует конечное количество разбиений (не более $k^N$), поэтому алгоритм всегда сходится за не более, чем $k^N$ шагов."
   ]
  },
  {
   "cell_type": "markdown",
   "metadata": {},
   "source": [
    "Задача 2.  ММП для многомерного нормального распределения.\n",
    "\n",
    "Функция правдоподобия в общем случае записывается как:\n",
    "\n",
    "$$ L(\\theta) = p(X | \\theta ) = \\prod_{i=1}^N p(x_i | \\theta)$$\n",
    "\n",
    "Для многомерного нормального распределения плотность вероятности:\n",
    "$$p(x_i| \\theta) = \\frac{1}{(2\\pi)^{n/2}|\\Sigma|^{1/2}}e^{-\\frac{1}{2} (x_i - \\mu)^T\\Sigma^{-1}(x_i - \\mu)}$$\n",
    "\n",
    "Выведите ММП оценку для вектора $\\mu$\n"
   ]
  },
  {
   "cell_type": "markdown",
   "metadata": {},
   "source": [
    "***Ваше решение здесь***\n",
    "\n",
    "В случае многомерного нормального распределения набор параметров $\\theta$ состоит из вектора средних $\\mu$ и матрицы ковариаций $\\Sigma$. Будем считать, что матрица ковариаций нам дана.\n",
    "\n",
    "\n",
    "Перейдем к логарифму функции правдоподобия (это не изменит наш конечный результат, т.к. логарифмирование не изменит положение максимума ФП, ибо логарифм - монотонно возрастающая функция):\n",
    "\n",
    "$$ \\log L(\\theta) = \\sum_{i=1}^N \\log p(x_i | \\theta)$$\n",
    "\n",
    "Заметим, что\n",
    "\n",
    "$$\\log p(x_i | \\theta) = \\log \\left[ \\frac{1}{(2\\pi)^{n/2}|\\Sigma|^{1/2}}e^{-\\frac{1}{2} (x_i - \\mu)^T\\Sigma^{-1}(x_i - \\mu)} \\right] =\n",
    "- \\frac{n}{2} \\log (2\\pi) - \\frac{1}{2} \\log |\\Sigma|  -\\frac{1}{2} (x_i - \\mu)^T\\Sigma^{-1}(x_i - \\mu)$$\n",
    "\n",
    "\n",
    "Максимум логарифма ФП будем искать стандартным способом: найдем производную по $\\mu$ , приравняем к нулю и решим получившееся уравнение относительно $\\mu$. Т.к. производная суммы равна сумме производных, то вначале найдем производную для *i*-го члена, а затем сложим. Для этого нам потребуется формула для производной квадратичной формы:\n",
    "\n",
    "$$ \\frac{d}{d x} x^T A x = x^T (A + A^T) $$\n",
    "\n",
    "Если матрица $A$ - симметрична (к примеру, матрица ковариаций), то\n",
    "\n",
    "$$ \\frac{d}{d x} x^T A x = 2 x^T A $$\n",
    "\n",
    "Возвращаемся к $\\log p(x_i | \\theta)$:\n",
    "\n",
    "$$\\frac {\\partial} {\\partial \\mu} \\log p(x_i | \\theta) = \\frac {\\partial}{\\partial \\mu} \\left[ -\\frac{1}{2} (x_i - \\mu)^T\\Sigma^{-1}(x_i - \\mu) \\right] = -\\frac{2}{2} (x_i - \\mu)^T \\Sigma^{-1} =  (\\mu - x_i )^T \\Sigma^{-1}$$\n",
    "\n",
    "Получаем:\n",
    "$$ \\log L(\\theta) = \\sum_{i=1}^N \\log p(x_i | \\theta) = \\sum_{i=1}^N (\\mu - x_i )^T \\Sigma^{-1} = \n",
    "(N \\mu^T - \\sum_{i=1}^N x_i^T ) \\Sigma^{-1}\n",
    "$$\n",
    "\n",
    "Приравниваем к нулю:\n",
    "\n",
    "$$ (N \\mu_{ML}^T - \\sum_{i=1}^N x_i^T ) \\Sigma^{-1} = 0$$\n",
    "\n",
    "\n",
    "Матрица ковариаций положительная полуопределенная, стало быть и обратная ей матрица положительно полуопределена, поэтому мы можем упростить до:\n",
    "$$ N \\mu_{ML} = \\sum_{i=1}^N x_i $$\n",
    "\n",
    "Отсюда получаем оценку максимального правдоподобия,\n",
    "\n",
    "$$ \\mu_{ML} = \\frac{1}{N} \\sum_{i=1}^N x_i $$"
   ]
  },
  {
   "cell_type": "markdown",
   "metadata": {},
   "source": [
    "Задача 3. Формулы Ланса-Вильямса.\n",
    "\n",
    "Формулы Ланса-Вильямса крайне удобны для быстрого пересчта расстояний в агломеративной кластеризации. Давайте докажем  формулы для single и complete linkage. \n",
    "\n",
    "Докажите, что:\n",
    "\n",
    "$d_{\\min}(U \\cup V, S) = \\frac{1}{2} d_{\\min}(U, S) + \\frac{1}{2} d_{\\min}(V, S)  - \\frac{1}{2} | d_{\\min}(U, S) - d_{\\min}(V, S) |  $\n",
    "\n",
    "\n",
    "$d_{\\max}(U \\cup V, S) = \\frac{1}{2} d_{\\max}(U, S) + \\frac{1}{2} d_{\\max}(V, S)  + \\frac{1}{2} | d_{\\max}(U, S) - d_{\\max}(V, S) |  $\n",
    "\n",
    "\n"
   ]
  },
  {
   "cell_type": "markdown",
   "metadata": {},
   "source": [
    "Заметим, что для того, чтобы формулы Ланса-Вильямса были верны, необходимо, чтобы расстояние между $U$ и $V$ было минимальным среди всех попарных расстояний в данном множестве кластеров.\n",
    "\n",
    "В таком случае для тройки $U, V, S$ возможны три ситуации: <br>\n",
    "1. $d(U, \\ S) < d(V,\\ S)$\n",
    "2. $d(U,\\ S) > d(V,\\ S)$\n",
    "3. $d(U,\\ S) = d(V,\\ S)$\n",
    "\n",
    "Раскроем модуль в формулах Ланса-Вильямса согласно данным неравенствам:\n",
    "\n",
    "1.1.  $d_{min} =  \\frac{1}{2} d_{\\min}(U, S) + \\frac{1}{2} d_{\\min}(V, S)  - \\frac{1}{2} | d_{\\min}(U, S) - d_{\\min}(V, S) | = \\frac{1}{2} d_{\\min}(U, S) + \\frac{1}{2} d_{\\min}(V, S)  + \\frac{1}{2} d_{\\min}(U, S) - \\frac{1}{2} d_{\\min}(V, S) = d_{\\min}(U, S)$\n",
    "1.2. $ d_{\\max}(U \\cup V, S) = \\frac{1}{2} d_{\\max}(U, S) + \\frac{1}{2} d_{\\max}(V, S)  - \\frac{1}{2} d_{\\max}(U, S) + \\frac{1}{2} d_{\\max}(V, S) = d_{\\max}(V, S)$\n",
    "\n",
    "2.1. $d_{\\min}(U \\cup V, S) = \\frac{1}{2} d_{\\min}(U, S) + \\frac{1}{2} d_{\\min}(V, S)  - \\frac{1}{2} d_{\\min}(U, S) + \\frac{1}{2}  d_{\\min}(V, S) = d_{\\min}(V, S)$\n",
    "\n",
    "2.2. $ d_{\\max}(U \\cup V, S) = \\frac{1}{2} d_{\\max}(U, S) + \\frac{1}{2} d_{\\max}(V, S)  + \\frac{1}{2} d_{\\max}(U, S) - \\frac{1}{2} d_{\\max}(V, S) = d_{\\max}(U, S)$\n",
    "\n",
    "3.1. $d_{\\min}(U \\cup V, S) = \\frac{1}{2} d_{\\min}(U, S) + \\frac{1}{2} d_{\\min}(V, S)$\n",
    "\n",
    "3.2. $ d_{\\max}(U \\cup V, S) = \\frac{1}{2} d_{\\max}(U, S) + \\frac{1}{2} d_{\\max}(V, S) $\n",
    "\n",
    "Для $d_{\\min}$ для каждого из случаев выше можем заметить следующее:\n",
    "\n",
    "1. По определению, $d_{\\min}(U \\cup V, S)$ соответствует минимальному расстоянию между объектами объединения $U \\cup V$ и объектами $S$. Тогда, если $d_{\\min}(U,\\ S) < d_{\\min}(V,\\ S)$, то $d_{\\min}(U \\cup V, S) = d_{\\min}(U, S)$ т.к. расстояние от любого объекта $V$ до любого объекта $S$ будет строго больше $d_{\\min}(U, S)$.\n",
    "2. По аналогии с первым пунктом, если $d_{\\min}(U,\\ S) > d_{\\min}(V,\\ S)$, то $d_{\\min}(U \\cup V, S) = d_{\\min}(V, S)$ (просто поменяли $U$ и $V$ местами).\n",
    "3. Если $d_{\\min}(U,\\ S) = d_{\\min}(V,\\ S)$, то $d_{\\min}(U \\cup V, S) = d_{\\min}(U, S) = d_{\\min}(V, S) = \\frac{1}{2} (d_{\\min}(U, S) + d_{\\min}(V, S)) $\n",
    "\n",
    "\n",
    "Пользуясь теми же самыми логическими рассуждениями, для $d_{\\max}$:\n",
    "1. По определению, $d_{\\max}(U \\cup V, S)$ соответствует максимальному расстоянию между объектами объединения $U \\cup V$ и объектами $S$. Тогда, если $d_{\\max}(U,\\ S) < d_{\\max}(V,\\ S)$, то $d_{\\max}(U \\cup V, S) = d_{\\max}(V, S)$ т.к. расстояние от любого объекта $V$ до любого объекта $S$ будет строго больше $d_{\\max}(U, S)$.\n",
    "2. Если $d_{max}(U,\\ S) > d_{max}(V,\\ S)$, то $d_{\\max}(U \\cup V, S) = d_{max}(U,\\ S)$\n",
    "3. Если $d_{max}(U,\\ S) = d_{max}(V,\\ S)$, то $d_{\\max}(U \\cup V, S) = d_{max}(U,\\ S) = d_{\\max}(V, S) = \\frac{1}{2} (d_{\\max}(U, S) + d_{\\max}(V, S)) $\n",
    "\n",
    "Сравнивая левые и правые части для всех шести случаев, получаем шесть равенств. ЧТД."
   ]
  },
  {
   "cell_type": "markdown",
   "metadata": {},
   "source": [
    "# Реализация алгоритма кластеризации  (5 баллов)"
   ]
  },
  {
   "cell_type": "markdown",
   "metadata": {},
   "source": [
    "Алгоритм кластеризации должен удовлетворять следующему интерфейсу. Конструктор принимает набор параметров, необходимых для работы алгоритма кластеризации. Метод `fit` подсчитывает параметры модели и возвращает `self`. Метод `predict` возвращает вектор с индексами кластеров для поданных в него объектов `x`. "
   ]
  },
  {
   "cell_type": "markdown",
   "metadata": {},
   "source": [
    "## Tree2labels"
   ]
  },
  {
   "cell_type": "code",
   "execution_count": 9,
   "metadata": {},
   "outputs": [],
   "source": [
    "def tree2labels(Z, n_clusters):\n",
    "    \"\"\"\n",
    "    Z - linkage matrix в формате\n",
    "    \"\"\"\n",
    "\n",
    "    N = Z.shape[0]+1\n",
    "    dct = {i: [i] for i in range(N)}\n",
    "\n",
    "    children = Z[:, :2].astype(np.int32)\n",
    "\n",
    "    for i in range(N-n_clusters):\n",
    "        left = children[i][0]\n",
    "        right = children[i][1]\n",
    "        dct[N+i] = dct.pop(left) + dct.pop(right)\n",
    "\n",
    "    preds = np.full(N, -1)\n",
    "    assert len(dct) == n_clusters\n",
    "    for i, klass in enumerate(dct):\n",
    "        preds[dct[klass]] = i\n",
    "\n",
    "    return preds"
   ]
  },
  {
   "cell_type": "markdown",
   "metadata": {},
   "source": [
    "## Complete и average linkage"
   ]
  },
  {
   "cell_type": "markdown",
   "metadata": {},
   "source": [
    "**Nearest-neighbor chain algorithm**"
   ]
  },
  {
   "cell_type": "markdown",
   "metadata": {},
   "source": [
    "- Cоздаем стек S и список *активных* кластеров (т.е. с ненулевым размером) L. Вначале у нас n кластеров по одному объекту. Список L можно выполнить в виде массива sizes - при инактивации кластера будем просто обнулять его размер.\n",
    "- Каждый раз, когда стек оказывается пустым, добавляем в него один активный кластер (неважно какой)\n",
    "\n",
    "На каждой итерации (n-1):\n",
    "- Снимаем кластер со стека (обозначим его как С)\n",
    "- Обходим весь список активных кластеров, находим наиболее близкий к С кластер D\n",
    "- Если D не лежит на верху стека, кладем D на стек и повторяем заново две пред. операции заново\n",
    "- Если же D лежит на стеке, то объединяем C и D (ибо они взаимные ближайщие соседи), обновляем список активных кластеров - сохраняем новый кластер под индексом min(C, D), другой кластер обнуляем \n",
    "- Записываем индексы кластеров, расстояние, и размер в матрицу Z\n",
    "- Обновляем матрицу расстояний между кластерами: для всех активных кластеров, кроме С, D, высчитываем новые расстояния"
   ]
  },
  {
   "cell_type": "markdown",
   "metadata": {},
   "source": [
    "**Класс UnionFind**\n",
    "\n",
    "После того, как мы нашли всю цепочку ближайщих соседей, нам необходимо переиндексировать правильным образом кластеры => кластеры, созданные на i-ой итерации построения дерева должны иметь индекс n+i.\n",
    "\n",
    "Для этого мы будем использовать систему непересекающихся множеств, для которой определены две операции: объединения двух множеств и поиска множества для данного элемента."
   ]
  },
  {
   "cell_type": "code",
   "execution_count": 10,
   "metadata": {},
   "outputs": [],
   "source": [
    "def single_linkage(Dx, n):\n",
    "    return nn_chain(Dx, n, method=0)"
   ]
  },
  {
   "cell_type": "code",
   "execution_count": 11,
   "metadata": {},
   "outputs": [],
   "source": [
    "def complete_linkage(Dx, n):\n",
    "    return nn_chain(Dx, n, method=1)"
   ]
  },
  {
   "cell_type": "code",
   "execution_count": 12,
   "metadata": {},
   "outputs": [],
   "source": [
    "def average_linkage(Dx, n):\n",
    "    return nn_chain(Dx, n, method=2)"
   ]
  },
  {
   "cell_type": "code",
   "execution_count": 13,
   "metadata": {
    "scrolled": false
   },
   "outputs": [],
   "source": [
    "%%cython --force\n",
    "from numpy.math cimport INFINITY\n",
    "import numpy as np\n",
    "cimport numpy as np\n",
    "\n",
    "\n",
    "# Функции для обновления расстояний между кластерами\n",
    "\"\"\"\n",
    "    d_xi : double\n",
    "        Расстояние от кластера x до кластера i\n",
    "    d_yi : double\n",
    "        Расстояние от кластера x до кластера y\n",
    "    d_xy : double\n",
    "        Расстояние от кластера x до кластера y\n",
    "    size_x : int\n",
    "        Размер x\n",
    "    size_y : int\n",
    "        Размер y\n",
    "    size_i : int\n",
    "        Размер i\n",
    "        \n",
    "    Returns:\n",
    "        Расстояние от кластера нового кластера x+y до кластера i\n",
    "\"\"\"\n",
    "\n",
    "cdef double single_distance(double d_xi, double d_yi,  double d_xy,\n",
    "                            int size_x, int size_y, int size_i):\n",
    "    return min(d_xi, d_yi)\n",
    "\n",
    "cdef double complete_distance(double d_xi, double d_yi,  double d_xy,\n",
    "                              int size_x, int size_y, int size_i):\n",
    "    return max(d_xi, d_yi)\n",
    "\n",
    "cdef double average_distance(double d_xi, double d_yi,  double d_xy,\n",
    "                              int size_x, int size_y, int size_i):\n",
    "    return (size_x * d_xi + size_y * d_yi) / (size_x + size_y)\n",
    "\n",
    "# Функция для расчета индекса в condensed distance pairwise\n",
    "cdef int condensed_index(int n, int i, int j):\n",
    "    if i < j:\n",
    "        return int(n * i - (i * (i + 1) / 2) + (j - i - 1))\n",
    "    elif i > j:\n",
    "        return int(n * j - (j * (j + 1) / 2) + (i - j - 1))\n",
    "    else:\n",
    "        msg = f'Cannot get the distance to the object itself! i = j = {i}'\n",
    "        raise Exception(msg)\n",
    "\n",
    "\n",
    "# тип указателя на функцию для обновления расстояний между кластерами\n",
    "ctypedef double (*linkage_distance_update)(double d_xi, double d_yi,\n",
    "                                           double d_xy, int size_x,\n",
    "                                           int size_y, int size_i)\n",
    "\n",
    "# \n",
    "cdef linkage_distance_update * linkage_methods = [\n",
    "    single_distance, complete_distance, average_distance]\n",
    "\n",
    "# Nearest-neighbor chain algorithm       \n",
    "def nn_chain(distances, n, method):\n",
    "    \"\"\"\n",
    "    distances - Pairwise distances\n",
    "    \n",
    "    Возвращает linkage matrix Z\n",
    "    \"\"\"\n",
    "\n",
    "    cdef double[:] Dx = distances.copy()\n",
    "    \n",
    "    Z_arr = np.empty((n-1, 4))\n",
    "    cdef double[:, :] Z = Z_arr\n",
    "    \n",
    "    cdef linkage_distance_update update_dist = linkage_methods[method]\n",
    "\n",
    "    cdef int[:] stack = np.ndarray(n, dtype=np.int32)\n",
    "    cdef int[:] sizes = np.ones(n, dtype=np.int32)\n",
    "    cdef int stack_size = 0\n",
    "    \n",
    "    cdef int i, k, x, y, size_x, size_y, new_size\n",
    "    cdef double d, curr_min\n",
    "    \n",
    "    for k in range(n-1):\n",
    "        # Если стек пустой, добавим первый активный кластер\n",
    "        if stack_size == 0:\n",
    "            for i in range(n):\n",
    "                if sizes[i] > 0:\n",
    "                    stack[0] = i\n",
    "                    stack_size = 1\n",
    "                    break\n",
    "        \n",
    "        while True:            \n",
    "            x = stack[stack_size-1] # size: {np.where(sizes == 0)[0]}\n",
    "            \n",
    "            if stack_size > 1:\n",
    "                y = stack[stack_size-2]\n",
    "                curr_min = Dx[condensed_index(n, x, y)]\n",
    "            else: # не забываем обновить значение мин. растояния\n",
    "                curr_min = INFINITY\n",
    "\n",
    "            for i in range(n):\n",
    "                # пропускаем текущий кластер\n",
    "                # и неактивные кластеры\n",
    "                \n",
    "                if i == x or sizes[i] == 0:               \n",
    "                    continue\n",
    "                \n",
    "                d = Dx[condensed_index(n, x, i)]\n",
    "\n",
    "                if d < curr_min:\n",
    "                    y = i\n",
    "                    curr_min = d\n",
    "            \n",
    "            # Если пред. знач на стеке - ближ. сосед\n",
    "            # выходим из цикла\n",
    "            if stack_size > 1 and y == stack[stack_size - 2]:\n",
    "                break\n",
    "                \n",
    "            # Если нет - ищем дальше\n",
    "            stack[stack_size] = y\n",
    "            stack_size += 1\n",
    "        \n",
    "        #  объединяем x и y\n",
    "        if x > y:\n",
    "            x, y = y, x\n",
    "        \n",
    "        stack_size -= 2\n",
    "        size_x = sizes[x]\n",
    "        size_y = sizes[y]\n",
    "        new_size = sizes[x] + sizes[y]\n",
    "                       \n",
    "        Z[k, 0] = x\n",
    "        Z[k, 1] = y\n",
    "        Z[k, 2] = curr_min\n",
    "        Z[k, 3] = new_size\n",
    "        \n",
    "        sizes[x] = 0\n",
    "        sizes[y] = new_size\n",
    "        \n",
    "        # обновим расстояния\n",
    "        for i in range(n):\n",
    "            size_i = sizes[i]\n",
    "            if i == y or size_i == 0:\n",
    "                continue\n",
    "\n",
    "            # d_xi, d_yi, d_xy,\n",
    "            # size_x, size_y, size_i)\n",
    "            Dx[condensed_index(n, i, y)] = update_dist(\n",
    "                Dx[condensed_index(n, i, x)],\n",
    "                Dx[condensed_index(n, i, y)],\n",
    "                curr_min,\n",
    "                size_x,\n",
    "                size_y,\n",
    "                size_i\n",
    "            )\n",
    "            \n",
    "    # Отсортируем Z по расстоянию\n",
    "    order = np.argsort(Z_arr[:, 2])\n",
    "    Z_arr = Z_arr[order]\n",
    "    \n",
    "    # Найдем метки кластеров\n",
    "    label(Z_arr, n)\n",
    "    return Z_arr\n",
    "\n",
    "\n",
    "cdef class UnionFind:\n",
    "    \"\"\"\n",
    "    Система непересекающихся множеств c \n",
    "    операциями объединения двух множеств и\n",
    "    поиска подмножества для данного элемента.\n",
    "\n",
    "    В классе реализованы две операции:\n",
    "        1. union(x, y) - объединяет два дочерних кластера\n",
    "            x, y в один родительский\n",
    "        2. find(x) - найти индекс родительского кластера для x\n",
    "\n",
    "    Мы будем использовать UnionFind для\n",
    "    последовательного объединения\n",
    "    пар кластеров в новые кластеры.\n",
    "\n",
    "    Два ближ. вершины ('ребенка')\n",
    "    объединяются в одну вершину ('родитель').\n",
    "\n",
    "    На i-ой операции будем создавать вершину\n",
    "    под индексом N+i (начиная с i=0).\n",
    "    \n",
    "    parent : numpy.ndarray\n",
    "        Массив, содержащий индексы родителей;\n",
    "        parent[x] - родитель кластера x, parent[x] > x.\n",
    "    \n",
    "    size : numpy.ndarray\n",
    "        Массив с размерами кластеров,\n",
    "        size[x] - размер кластера x\n",
    "        \n",
    "    n : int\n",
    "        Текущий номер итерации\n",
    "    \"\"\"\n",
    "\n",
    "    cdef int[:] parent\n",
    "    cdef int[:] size\n",
    "    cdef int next_label\n",
    "\n",
    "    def __init__(self, int n):\n",
    "        self.parent = np.arange(2 * n - 1, dtype=np.intc)\n",
    "        self.next_label = n\n",
    "        self.size = np.ones(2 * n - 1, dtype=np.intc)\n",
    "\n",
    "    cdef int union(self, int x, int y):\n",
    "        # записываем индекс родителя\n",
    "        self.parent[x] = self.next_label\n",
    "        self.parent[y] = self.next_label\n",
    "        \n",
    "        cdef int size = self.size[x] + self.size[y]\n",
    "        self.size[self.next_label] = size\n",
    "        self.next_label += 1\n",
    "        \n",
    "        return size\n",
    "\n",
    "    cdef find(self, int x):\n",
    "        cdef int p = x\n",
    "        \n",
    "        # обходим массив родителей, находим корень\n",
    "        # если у кластера родителя еще нет, то \n",
    "        # self.parent[x] == x\n",
    "        while self.parent[x] != x:\n",
    "            x = self.parent[x]\n",
    "        \n",
    "        # x - корень\n",
    "        # меняем для всех узлов поддерева\n",
    "        # непосредственного родителя\n",
    "        # на корень\n",
    "        while self.parent[p] != x:\n",
    "            p = self.parent[p]\n",
    "            self.parent[p] = x\n",
    "\n",
    "        return x\n",
    "\n",
    "\n",
    "cdef label(double[:, :] Z, int n):\n",
    "\n",
    "    cdef UnionFind uf = UnionFind(n)\n",
    "\n",
    "    cdef int i, x, y, x_root, y_root\n",
    "\n",
    "    for i in range(n - 1):\n",
    "        x, y = int(Z[i, 0]), int(Z[i, 1])\n",
    "        \n",
    "        x_root, y_root = uf.find(x), uf.find(y)\n",
    "        \n",
    "        if x_root < y_root:\n",
    "            Z[i, 0], Z[i, 1] = x_root, y_root\n",
    "        \n",
    "        else:\n",
    "            Z[i, 0], Z[i, 1] = y_root, x_root\n",
    "        \n",
    "        Z[i, 3] = uf.union(x_root, y_root)"
   ]
  },
  {
   "cell_type": "markdown",
   "metadata": {},
   "source": [
    "## Класс Clustering"
   ]
  },
  {
   "cell_type": "code",
   "execution_count": 14,
   "metadata": {},
   "outputs": [],
   "source": [
    "from sklearn.base import BaseEstimator, ClusterMixin\n",
    "\n",
    "\n",
    "class Clustering(BaseEstimator, ClusterMixin):\n",
    "    \"\"\"\n",
    "    Implement clustering algorithm according\n",
    "    \"\"\"\n",
    "\n",
    "    def __init__(self,\n",
    "                 n_clusters=2,\n",
    "                 metric='euclidean',\n",
    "                 linkage='single',\n",
    "                 p=2.\n",
    "                 ):\n",
    "        \"\"\"\n",
    "        metric - string with name of metric, for example, euclidean\n",
    "        Please add necessary algoritm parameters to class constructor.\n",
    "        \"\"\"\n",
    "        self.n_clusters = n_clusters\n",
    "        self.metric = metric\n",
    "        self.linkage = linkage\n",
    "        self.p = p\n",
    "\n",
    "        if linkage == 'single':\n",
    "            self.tree_builder = single_linkage\n",
    "        elif linkage == 'complete':\n",
    "            self.tree_builder = complete_linkage\n",
    "        elif linkage == 'average':\n",
    "            self.tree_builder = average_linkage\n",
    "        else:\n",
    "            raise Exception(\"Incorrect linkage method\")\n",
    "\n",
    "        self.Z = None\n",
    "\n",
    "    def fit_predict(self, x, dist_matrix=None):\n",
    "        \"\"\"\n",
    "        Use data matrix x to compute model parameters and predict clusters\n",
    "        \"\"\"\n",
    "        size_x = x.shape[0]\n",
    "        if dist_matrix is None:\n",
    "            dist_matrix = distance.pdist(x, metric=self.metric, p=self.p)\n",
    "\n",
    "        self.Z = self.tree_builder(dist_matrix, size_x)\n",
    "\n",
    "        preds = tree2labels(self.Z, self.n_clusters)\n",
    "\n",
    "        return preds\n",
    "\n",
    "    def plot_dendrogram(self):\n",
    "        \"\"\"\n",
    "        Try to visualize our data\n",
    "        \"\"\"\n",
    "        if self.Z is None:\n",
    "            raise ValueError('NotFitted')\n",
    "        else:\n",
    "            dn = dendrogram(self.Z)\n",
    "            return dn"
   ]
  },
  {
   "cell_type": "markdown",
   "metadata": {},
   "source": [
    "Сначала проверим реализованный алгоритм кластеризации на классическом наборе данных [Iris](http://www.wikiwand.com/en/Iris_flower_data_set). Загрузим данные (они включены в библиотеку sklearn) и посмотрим на то, как они выглядят в двух проекциях (для простоты используем 2 класса из 3)."
   ]
  },
  {
   "cell_type": "code",
   "execution_count": 15,
   "metadata": {},
   "outputs": [
    {
     "data": {
      "image/png": "[encoded data removed]",
      "text/plain": [
       "<Figure size 720x360 with 2 Axes>"
      ]
     },
     "metadata": {
      "needs_background": "light"
     },
     "output_type": "display_data"
    }
   ],
   "source": [
    "iris = ds.load_iris()\n",
    "x_iris = iris.data[:100]\n",
    "y_iris = iris.target[:100]\n",
    "\n",
    "pl.figure(figsize=(10, 5))\n",
    "\n",
    "pl.subplot(1, 2, 1)\n",
    "pl.scatter(x_iris[:, 0], x_iris[:, 1], c=y_iris, cmap=pl.cm.PuOr, lw=0, s=30)\n",
    "plt.xlabel('Sepal length')\n",
    "plt.ylabel('Sepal width')\n",
    "\n",
    "pl.subplot(1, 2, 2)\n",
    "pl.scatter(x_iris[:, 2], x_iris[:, 3], c=y_iris, cmap=pl.cm.PuOr, lw=0, s=30)\n",
    "plt.xlabel('Petal length')\n",
    "plt.ylabel('Petal width')\n",
    "pl.show()"
   ]
  },
  {
   "cell_type": "markdown",
   "metadata": {},
   "source": [
    "Видно, что классы разделяются, поэтому можно надеяться, что наш алгоритм \"найдет\" кластеры, соответствующие исходным классам. Результат работы реализованного алгоритма кластеризации предлагается сравнить с эталонной кластеризацией. Для этого предлагается изучить метрику ([adjusted rand score](http://scikit-learn.org/stable/modules/generated/sklearn.metrics.adjusted_rand_score.html)). В случае если значение этой метрики отличается от 1, предлагается поработать над улучшением реализации своего алгоритма."
   ]
  },
  {
   "cell_type": "code",
   "execution_count": 16,
   "metadata": {},
   "outputs": [
    {
     "name": "stdout",
     "output_type": "stream",
     "text": [
      "Sklearn AGGL score 1.0. Sklearn AGGL time 0.0013799667358398438\n"
     ]
    }
   ],
   "source": [
    "# Давайте проверим, как справляются sklearn реализации\n",
    "sklearn_aggl = AgglomerativeClustering(n_clusters=2,\n",
    "                                       compute_full_tree=True,\n",
    "                                       linkage='single')\n",
    "aggl_t0 = time.time()\n",
    "aggl_pred = sklearn_aggl.fit_predict(x_iris)\n",
    "aggl_diff = time.time() - aggl_t0\n",
    "aggl_score = smt.adjusted_rand_score(y_iris, aggl_pred)\n",
    "print(\"Sklearn AGGL score {}. Sklearn AGGL time {}\".format(aggl_score, aggl_diff))"
   ]
  },
  {
   "cell_type": "code",
   "execution_count": 17,
   "metadata": {},
   "outputs": [
    {
     "name": "stdout",
     "output_type": "stream",
     "text": [
      "Our AGGL score 1.0. Our AGGL time 0.0018169879913330078\n"
     ]
    }
   ],
   "source": [
    "# Здесь предскажем кластера,\n",
    "# посчитаем метрику кластеризации и время работы, сравним со склерном\n",
    "сustum_aggl = Clustering(\n",
    "    linkage='complete')\n",
    "aggl_t0 = time.time()\n",
    "aggl_pred = сustum_aggl.fit_predict(x_iris)\n",
    "aggl_diff = time.time() - aggl_t0\n",
    "aggl_score = smt.adjusted_rand_score(y_iris, aggl_pred)\n",
    "print(\"Our AGGL score {}. Our AGGL time {}\".format(aggl_score, aggl_diff))"
   ]
  },
  {
   "cell_type": "markdown",
   "metadata": {
    "collapsed": true
   },
   "source": [
    "# Боевое применение (3  балла)\n"
   ]
  },
  {
   "cell_type": "markdown",
   "metadata": {
    "collapsed": true
   },
   "source": [
    "Алгоритмы кластеризации прекрасны тем, что они позволяют быстро понять, как устроены наши данные. Давайте применим Ваш алгоритм для нашего конкурса!"
   ]
  },
  {
   "cell_type": "markdown",
   "metadata": {},
   "source": [
    "Будем рассматривать каждую группу независимо от других групп. На каждой группе применим наш алгоритм и отрисуем денденограмму. По результатам кластерного анализа, Вам нужно ответить на следующие вопросы:\n",
    "\n",
    "1) Можно ли по дендонаграмме (или по другим результатам кластеризации) сказать, где в группе аномалии? Каким образом?\n",
    "\n",
    "2) Какое расстояние лучше использовать между заголовками страниц для кластеризации? \n",
    "\n",
    "2) Какое качество f1_score Вы смогли получить на обучающем множестве методами кластеризации? (валидацию можете не делать, если таргет не используете)\n",
    "\n",
    "4) Как можно результат кластеризации затем использовать для  финальной модели обучения с учителем?"
   ]
  },
  {
   "cell_type": "markdown",
   "metadata": {},
   "source": [
    "Подсказка: самое важное - выбрать расстояние между заголовками. Самый простой вариант:  процент различных слов в двух заголовках."
   ]
  },
  {
   "cell_type": "code",
   "execution_count": 18,
   "metadata": {},
   "outputs": [
    {
     "name": "stdout",
     "output_type": "stream",
     "text": [
      "28026\n"
     ]
    }
   ],
   "source": [
    "doc_to_title = {}\n",
    "with open('docs_titles.tsv') as f:\n",
    "    for num_line, line in enumerate(f):\n",
    "        if num_line == 0:\n",
    "            continue\n",
    "        data = line.strip().split('\\t', 1)\n",
    "        doc_id = int(data[0])\n",
    "\n",
    "        if len(data) == 1:\n",
    "            title = ''\n",
    "        else:\n",
    "            title = data[1]\n",
    "\n",
    "        doc_to_title[doc_id] = title\n",
    "print(len(doc_to_title))"
   ]
  },
  {
   "cell_type": "code",
   "execution_count": 19,
   "metadata": {},
   "outputs": [],
   "source": [
    "def process_group(kind='train'):\n",
    "\n",
    "    if kind == 'train':\n",
    "        filename = 'train_groups.csv'\n",
    "    elif kind == 'test':\n",
    "        filename = 'test_groups.csv'\n",
    "    else:\n",
    "        raise ValueError('Incorrect kind')\n",
    "\n",
    "    data = pd.read_csv(filename)\n",
    "    groups_titledata = {}\n",
    "\n",
    "    for i in range(len(data)):\n",
    "        new_doc = data.iloc[i]\n",
    "        doc_group = new_doc['group_id']\n",
    "        doc_id = new_doc['doc_id']\n",
    "        title = doc_to_title[doc_id]\n",
    "\n",
    "        if kind == 'train':\n",
    "            target = new_doc['target']\n",
    "\n",
    "        if doc_group not in groups_titledata:\n",
    "            groups_titledata[doc_group] = []\n",
    "\n",
    "        if kind == 'train':\n",
    "            groups_titledata[doc_group].append((doc_id, title, target))\n",
    "        elif kind == 'test':\n",
    "            groups_titledata[doc_group].append((doc_id, title))\n",
    "\n",
    "    return groups_titledata"
   ]
  },
  {
   "cell_type": "code",
   "execution_count": 20,
   "metadata": {
    "scrolled": true
   },
   "outputs": [],
   "source": [
    "traingroups_titledata = process_group('train')\n",
    "testgroups_titledata = process_group('test')"
   ]
  },
  {
   "cell_type": "markdown",
   "metadata": {},
   "source": [
    "Кластеризацию проводите в каждой группе отдельно, то есть изучайте, можно ли в группе  найти подкластер выбросов\n",
    "\n",
    "Документы можно представлять, например, словами из тайтла.\n",
    "\n",
    "Главное подобрать хорошую функцию расстояния между документами\n"
   ]
  },
  {
   "cell_type": "markdown",
   "metadata": {},
   "source": [
    "Замечание: в кластеризации можно использовать все данные, то есть трейн + тест, чтобы находить больше закономерностей "
   ]
  },
  {
   "cell_type": "markdown",
   "metadata": {},
   "source": [
    "## Препроцессинг"
   ]
  },
  {
   "cell_type": "code",
   "execution_count": 21,
   "metadata": {},
   "outputs": [],
   "source": [
    "from sklearn.feature_extraction.text import TfidfVectorizer"
   ]
  },
  {
   "cell_type": "code",
   "execution_count": 22,
   "metadata": {},
   "outputs": [],
   "source": [
    "puncts = [',', '.', '\"', ':', ')', '(', '-', '!', '?',\n",
    "          '|', ';', \"'\", '$', '&', '/', '[', ']', '>',\n",
    "          '%', '=', '#', '*', '+', '\\\\', '•',  '~', '@',\n",
    "          '£', '·', '_', '{', '}', '©', '^', '®', '`',\n",
    "          '<', '→', '°', '€', '™', '›',  '♥', '←', '×',\n",
    "          '§', '″', '′', 'Â', '█', '½', 'à', '…', '“',\n",
    "          '★', '”', '–', '●', 'â', '►', '−', '¢', '²',\n",
    "          '¬', '░', '¶', '↑', '±', '¿', '▾', '═', '¦',\n",
    "          '║', '―', '¥', '▓', '—', '‹', '─', '▒', '：',\n",
    "          '¼', '⊕', '▼', '▪', '†', '■', '’', '▀', '¨',\n",
    "          '▄', '♫', '☆', 'é', '¯', '♦', '¤', '▲', 'è',\n",
    "          '¸', '¾', 'Ã', '⋅', '‘', '∞', '∙', '）', '↓',\n",
    "          '、', '│', '（', '»', '，', '♪', '╩', '╚', '³',\n",
    "          '・', '╦', '╣', '╔', '╗', '▬', '❤', 'ï', 'Ø',\n",
    "          '¹', '≤', '‡', '√', ]"
   ]
  },
  {
   "cell_type": "code",
   "execution_count": 23,
   "metadata": {},
   "outputs": [],
   "source": [
    "def preprocess_text(text):\n",
    "    text = text.lower()\n",
    "\n",
    "    for punct in puncts:\n",
    "        text = text.replace(punct, f' {punct} ')\n",
    "\n",
    "    return text"
   ]
  },
  {
   "cell_type": "code",
   "execution_count": 24,
   "metadata": {},
   "outputs": [],
   "source": [
    "def process_groups(groups):\n",
    "    res = {}\n",
    "    for group_id in groups:\n",
    "        res[group_id] = [(doc_id, preprocess_text(title), *_)\n",
    "                         for doc_id, title, *_ in groups[group_id]]\n",
    "    return res   "
   ]
  },
  {
   "cell_type": "code",
   "execution_count": 25,
   "metadata": {},
   "outputs": [],
   "source": [
    "traingroups_titledata = process_groups(traingroups_titledata)\n",
    "testgroups_titledata = process_groups(testgroups_titledata)"
   ]
  },
  {
   "cell_type": "markdown",
   "metadata": {},
   "source": [
    "## Векторизация"
   ]
  },
  {
   "cell_type": "markdown",
   "metadata": {},
   "source": [
    "### Превратим данные по каждой из групп в массив индексов, список строк и массив значений таргета"
   ]
  },
  {
   "cell_type": "code",
   "execution_count": 26,
   "metadata": {},
   "outputs": [],
   "source": [
    "def transform_group(group):\n",
    "    ids = []\n",
    "    strings = []\n",
    "    target = []\n",
    "    for doc_id, title, *_ in group:\n",
    "        ids.append(doc_id)\n",
    "        strings.append(title)\n",
    "        if _:\n",
    "            target.append(*_)\n",
    "\n",
    "    if target:\n",
    "        return np.array(ids, dtype=np.int32),\\\n",
    "               strings,\\\n",
    "               np.array(target, dtype=np.int32)\n",
    "    else:\n",
    "        return np.array(ids, dtype=np.int32),\\\n",
    "               strings"
   ]
  },
  {
   "cell_type": "code",
   "execution_count": 27,
   "metadata": {},
   "outputs": [],
   "source": [
    "def transform_groups(groups):\n",
    "    res = {}\n",
    "    for group_id in groups:\n",
    "        res[group_id] = transform_group(groups[group_id])\n",
    "\n",
    "    return res"
   ]
  },
  {
   "cell_type": "code",
   "execution_count": 28,
   "metadata": {},
   "outputs": [],
   "source": [
    "def vectorize_groups(vectorizer, data):\n",
    "    res = {}\n",
    "    for group_id in data:\n",
    "        ids, strings, *_ = data[group_id]\n",
    "        x = vectorizer.transform(strings)\n",
    "        res[group_id] = ids, x.toarray(), *_\n",
    "\n",
    "    return res"
   ]
  },
  {
   "cell_type": "code",
   "execution_count": 29,
   "metadata": {},
   "outputs": [],
   "source": [
    "train_data = transform_groups(traingroups_titledata)\n",
    "test_data = transform_groups(testgroups_titledata)"
   ]
  },
  {
   "cell_type": "markdown",
   "metadata": {},
   "source": [
    "### Обучим векторизатор"
   ]
  },
  {
   "cell_type": "markdown",
   "metadata": {},
   "source": [
    "#### Загрузим русские стоп-слова c [stopwords-ru](https://github.com/stopwords-iso/stopwords-ru/blob/master/stopwords-ru.txt)"
   ]
  },
  {
   "cell_type": "code",
   "execution_count": 30,
   "metadata": {},
   "outputs": [],
   "source": [
    "with open('stopwords-ru.txt') as F:\n",
    "    stop_words_ru = [line.strip() for line in F]"
   ]
  },
  {
   "cell_type": "markdown",
   "metadata": {},
   "source": [
    "#### Приведем слова к нормальной форме"
   ]
  },
  {
   "cell_type": "code",
   "execution_count": 31,
   "metadata": {},
   "outputs": [],
   "source": [
    "import pymorphy2"
   ]
  },
  {
   "cell_type": "code",
   "execution_count": 32,
   "metadata": {},
   "outputs": [],
   "source": [
    "morph = pymorphy2.MorphAnalyzer()"
   ]
  },
  {
   "cell_type": "code",
   "execution_count": 33,
   "metadata": {},
   "outputs": [],
   "source": [
    "_vectorizer = TfidfVectorizer()\n",
    "sklearn_tokenizer = _vectorizer.build_tokenizer()"
   ]
  },
  {
   "cell_type": "code",
   "execution_count": 34,
   "metadata": {},
   "outputs": [],
   "source": [
    "def lemmatize(text):\n",
    "    words = sklearn_tokenizer(text)\n",
    "    res = list()\n",
    "    for word in words:\n",
    "        p = morph.parse(word)[0]\n",
    "        res.append(p.normal_form)\n",
    "\n",
    "    return ' '.join(res)"
   ]
  },
  {
   "cell_type": "code",
   "execution_count": 35,
   "metadata": {},
   "outputs": [],
   "source": [
    "def lemmatize_data(data):\n",
    "    res = {}\n",
    "    for group_id in data:\n",
    "        ids, text, *target = data[group_id]\n",
    "        text = [lemmatize(line) for line in text]\n",
    "        if target:\n",
    "            res[group_id] = ids, text, target[0]\n",
    "        else:\n",
    "            res[group_id] = ids, text\n",
    "    return res"
   ]
  },
  {
   "cell_type": "code",
   "execution_count": 36,
   "metadata": {},
   "outputs": [],
   "source": [
    "train_data_lemma = lemmatize_data(train_data)\n",
    "test_data_lemma = lemmatize_data(test_data)"
   ]
  },
  {
   "cell_type": "markdown",
   "metadata": {},
   "source": [
    "#### Объединим все заголовки"
   ]
  },
  {
   "cell_type": "code",
   "execution_count": 37,
   "metadata": {},
   "outputs": [],
   "source": [
    "corpus = [lemmatize(preprocess_text(string))\n",
    "          for string in doc_to_title.values()]"
   ]
  },
  {
   "cell_type": "markdown",
   "metadata": {},
   "source": [
    "#### Создаем векторизатор"
   ]
  },
  {
   "cell_type": "code",
   "execution_count": 38,
   "metadata": {},
   "outputs": [],
   "source": [
    "vectorizer_params = {\n",
    "    'sublinear_tf': True,\n",
    "    'min_df': 5,\n",
    "    'stop_words': stop_words_ru,\n",
    "    'lowercase': False,\n",
    "}"
   ]
  },
  {
   "cell_type": "code",
   "execution_count": 39,
   "metadata": {},
   "outputs": [
    {
     "name": "stderr",
     "output_type": "stream",
     "text": [
      "/home/gennady/anaconda3/lib/python3.7/site-packages/sklearn/feature_extraction/text.py:300: UserWarning: Your stop_words may be inconsistent with your preprocessing. Tokenizing the stop words generated tokens ['хотел'] not in stop_words.\n",
      "  'stop_words.' % sorted(inconsistent))\n",
      "2:23: E703 statement ends with a semicolon\n"
     ]
    }
   ],
   "source": [
    "vectorizer = TfidfVectorizer(**vectorizer_params)\n",
    "vectorizer.fit(corpus);"
   ]
  },
  {
   "cell_type": "markdown",
   "metadata": {},
   "source": [
    "#### Векторизуем заголовки в группах"
   ]
  },
  {
   "cell_type": "code",
   "execution_count": 40,
   "metadata": {},
   "outputs": [],
   "source": [
    "train_tfidf = vectorize_groups(vectorizer, train_data_lemma)\n",
    "test_tfidf = vectorize_groups(vectorizer, test_data_lemma)"
   ]
  },
  {
   "cell_type": "code",
   "execution_count": 41,
   "metadata": {},
   "outputs": [],
   "source": [
    "def filter_groups(vect_data):\n",
    "    \"\"\"Отфильтруем заголовки с нулевыми векторами\"\"\"\n",
    "    res_filtered = {}\n",
    "    res_zero = {}\n",
    "\n",
    "    for group_id in vect_data:\n",
    "        ids, X, *_ = vect_data[group_id]\n",
    "        zero_rows = np.where(~X.any(axis=1))[0]\n",
    "        nonzero_rows = np.where(X.any(axis=1))[0]\n",
    "\n",
    "        if _:\n",
    "            res_zero[group_id] = [\n",
    "                                  ids[zero_rows],\n",
    "                                  X[zero_rows],\n",
    "                                  _[0][zero_rows]\n",
    "                                 ]\n",
    "\n",
    "            res_filtered[group_id] = [\n",
    "                                  ids[nonzero_rows],\n",
    "                                  X[nonzero_rows],\n",
    "                                  _[0][nonzero_rows]\n",
    "                                 ]\n",
    "\n",
    "        else:\n",
    "            res_zero[group_id] = [\n",
    "                                  ids[zero_rows],\n",
    "                                  X[zero_rows],\n",
    "                                 ]\n",
    "\n",
    "            res_filtered[group_id] = [\n",
    "                                  ids[nonzero_rows],\n",
    "                                  X[nonzero_rows],\n",
    "                                 ]\n",
    "\n",
    "    return res_filtered, res_zero"
   ]
  },
  {
   "cell_type": "code",
   "execution_count": 42,
   "metadata": {},
   "outputs": [],
   "source": [
    "train_tfidf_filt, train_tfidf_zero = filter_groups(train_tfidf)\n",
    "test_tfidf_filt, test_tfidf_zero = filter_groups(test_tfidf)"
   ]
  },
  {
   "cell_type": "markdown",
   "metadata": {},
   "source": [
    "## Кластерный анализ"
   ]
  },
  {
   "cell_type": "code",
   "execution_count": 43,
   "metadata": {},
   "outputs": [],
   "source": [
    "def perform_cluster_group(group, params):\n",
    "    ids, X, *_ = group\n",
    "    clustering = Clustering(**params)\n",
    "    preds = clustering.fit_predict(X)\n",
    "    tree = clustering.Z\n",
    "    if _:\n",
    "        return ids, tree, preds, _[0]\n",
    "    else:\n",
    "        return ids, tree, preds"
   ]
  },
  {
   "cell_type": "code",
   "execution_count": 44,
   "metadata": {},
   "outputs": [],
   "source": [
    "def perform_cluster_groups(groups, params):\n",
    "    res = {}\n",
    "    for group_id in groups:\n",
    "        res[group_id] = perform_cluster_group(groups[group_id], params)\n",
    "    return res"
   ]
  },
  {
   "cell_type": "code",
   "execution_count": 45,
   "metadata": {},
   "outputs": [],
   "source": [
    "def analyze_cluster(groups):\n",
    "    mean_score = 0.\n",
    "    total = 0\n",
    "    res = {}\n",
    "    for group_id in groups:\n",
    "        preds = groups[group_id][2]\n",
    "        true = groups[group_id][3]\n",
    "        score = smt.f1_score(true, preds)\n",
    "        res[group_id] = score\n",
    "        total += preds.shape[0]\n",
    "        mean_score += score*preds.shape[0]\n",
    "\n",
    "    mean_score /= total\n",
    "\n",
    "    return res, mean_score"
   ]
  },
  {
   "cell_type": "code",
   "execution_count": 46,
   "metadata": {},
   "outputs": [],
   "source": [
    "cluster_dist_name = ['cityblock', 'euclidean', 'cosine']\n",
    "cluster_linkage_name = ['single', 'complete', 'average']"
   ]
  },
  {
   "cell_type": "code",
   "execution_count": 49,
   "metadata": {},
   "outputs": [],
   "source": [
    "clustering_param = [{'metric': d, 'linkage': l}\n",
    "                    for d in cluster_dist_name\n",
    "                    for l in cluster_linkage_name]"
   ]
  },
  {
   "cell_type": "code",
   "execution_count": 51,
   "metadata": {},
   "outputs": [],
   "source": [
    "param_scores = []\n",
    "for param in clustering_param:\n",
    "    scores, mean_score = analyze_cluster(\n",
    "        perform_cluster_groups(train_tfidf_filt, param))\n",
    "    param_scores.append(mean_score)"
   ]
  },
  {
   "cell_type": "code",
   "execution_count": 56,
   "metadata": {},
   "outputs": [
    {
     "data": {
      "text/plain": [
       "{'metric': 'cityblock', 'linkage': 'single'}"
      ]
     },
     "execution_count": 56,
     "metadata": {},
     "output_type": "execute_result"
    }
   ],
   "source": [
    "best_params = clustering_param[np.argmax(param_scores)]\n",
    "best_params"
   ]
  },
  {
   "cell_type": "code",
   "execution_count": 57,
   "metadata": {
    "scrolled": false
   },
   "outputs": [],
   "source": [
    "train_cluster = perform_cluster_groups(train_tfidf_filt, best_params)"
   ]
  },
  {
   "cell_type": "code",
   "execution_count": 58,
   "metadata": {},
   "outputs": [],
   "source": [
    "scores, mean_score = analyze_cluster(train_cluster)"
   ]
  },
  {
   "cell_type": "code",
   "execution_count": 59,
   "metadata": {},
   "outputs": [
    {
     "data": {
      "text/plain": [
       "0.37974464623914334"
      ]
     },
     "execution_count": 59,
     "metadata": {},
     "output_type": "execute_result"
    }
   ],
   "source": [
    "mean_score"
   ]
  },
  {
   "cell_type": "markdown",
   "metadata": {},
   "source": [
    "### Посмотрим на дендрограммы групп с наилучшим и наихудшим  F1-score"
   ]
  },
  {
   "cell_type": "code",
   "execution_count": 60,
   "metadata": {},
   "outputs": [],
   "source": [
    "max_cluster, min_cluster = \\\n",
    "    max(scores.items(), key=lambda x: x[1]),\\\n",
    "    min(scores.items(), key=lambda x: x[1])"
   ]
  },
  {
   "cell_type": "code",
   "execution_count": 61,
   "metadata": {
    "scrolled": false
   },
   "outputs": [
    {
     "data": {
      "text/plain": [
       "Text(0.5, 1.0, 'Cluster 77 with max F1-score = 0.98')"
      ]
     },
     "execution_count": 61,
     "metadata": {},
     "output_type": "execute_result"
    },
    {
     "data": {
      "image/png": "[encoded data removed]",
      "text/plain": [
       "<Figure size 720x576 with 1 Axes>"
      ]
     },
     "metadata": {
      "needs_background": "light"
     },
     "output_type": "display_data"
    }
   ],
   "source": [
    "plt.figure(figsize=(10, 8))\n",
    "dendrogram(train_cluster[max_cluster[0]][1])\n",
    "plt.title(f'Cluster {max_cluster[0]} with max F1-score = {max_cluster[1]:.2f}')"
   ]
  },
  {
   "cell_type": "code",
   "execution_count": 62,
   "metadata": {
    "scrolled": false
   },
   "outputs": [
    {
     "data": {
      "text/plain": [
       "Text(0.5, 1.0, 'Cluster 72 with min F1-score = 0.00')"
      ]
     },
     "execution_count": 62,
     "metadata": {},
     "output_type": "execute_result"
    },
    {
     "data": {
      "image/png": "[encoded data removed]",
      "text/plain": [
       "<Figure size 720x576 with 1 Axes>"
      ]
     },
     "metadata": {
      "needs_background": "light"
     },
     "output_type": "display_data"
    }
   ],
   "source": [
    "plt.figure(figsize=(10, 8))\n",
    "dendrogram(train_cluster[min_cluster[0]][1])\n",
    "plt.title(f'Cluster {min_cluster[0]} with min F1-score = {min_cluster[1]:.2f}')"
   ]
  },
  {
   "cell_type": "markdown",
   "metadata": {},
   "source": [
    "### Объединим с отфильтрованными данными и посмотрим на F1"
   ]
  },
  {
   "cell_type": "markdown",
   "metadata": {},
   "source": [
    "Отфильтрованные объекты мы будем относить к классу 0"
   ]
  },
  {
   "cell_type": "code",
   "execution_count": 63,
   "metadata": {},
   "outputs": [],
   "source": [
    "from collections import defaultdict"
   ]
  },
  {
   "cell_type": "code",
   "execution_count": 64,
   "metadata": {},
   "outputs": [],
   "source": [
    "def merge_results(cluster_res, data_zero):\n",
    "    \"\"\"Выбросим дендрограмму\"\"\"\n",
    "    assert cluster_res.keys() == data_zero.keys()\n",
    "    res = defaultdict(list)\n",
    "\n",
    "    for group_id in cluster_res:\n",
    "        # ids\n",
    "        res[group_id].append(\n",
    "            np.hstack([cluster_res[group_id][0],\n",
    "                       data_zero[group_id][0]])\n",
    "        )\n",
    "        # dummy variable\n",
    "        res[group_id].append(None)\n",
    "        # preds\n",
    "        res[group_id].append(\n",
    "            np.hstack([cluster_res[group_id][2],\n",
    "                       np.ones(data_zero[group_id][2].shape)])\n",
    "        )\n",
    "\n",
    "        # true\n",
    "        res[group_id].append(\n",
    "            np.hstack([cluster_res[group_id][3],\n",
    "                       data_zero[group_id][2]])\n",
    "        )\n",
    "\n",
    "    return res        "
   ]
  },
  {
   "cell_type": "code",
   "execution_count": 65,
   "metadata": {},
   "outputs": [],
   "source": [
    "train_merge_res = merge_results(train_cluster, train_tfidf_zero)"
   ]
  },
  {
   "cell_type": "code",
   "execution_count": 66,
   "metadata": {},
   "outputs": [],
   "source": [
    "scores, mean_score = analyze_cluster(train_merge_res)"
   ]
  },
  {
   "cell_type": "code",
   "execution_count": 67,
   "metadata": {},
   "outputs": [
    {
     "data": {
      "text/plain": [
       "0.3745968534512167"
      ]
     },
     "execution_count": 67,
     "metadata": {},
     "output_type": "execute_result"
    }
   ],
   "source": [
    "mean_score"
   ]
  },
  {
   "cell_type": "markdown",
   "metadata": {},
   "source": [
    "### Построим для каждой группы векторизатор"
   ]
  },
  {
   "cell_type": "code",
   "execution_count": 68,
   "metadata": {},
   "outputs": [],
   "source": [
    "vectorizer_params2 = {\n",
    "    'sublinear_tf': True,\n",
    "    'min_df': 3,\n",
    "    'stop_words': stop_words_ru,\n",
    "    'lowercase': False,\n",
    "}"
   ]
  },
  {
   "cell_type": "code",
   "execution_count": 69,
   "metadata": {},
   "outputs": [],
   "source": [
    "def vectorizer_for_each_group(data):\n",
    "    res = {}\n",
    "    vectorizer = TfidfVectorizer(**vectorizer_params2)\n",
    "    for group_id in data:\n",
    "        ids, text, *_ = data[group_id]\n",
    "        vector = vectorizer.fit_transform(text).toarray()\n",
    "        if _:\n",
    "            res[group_id] = ids, vector, _[0]\n",
    "        else:\n",
    "            res[group_id] = ids, vector\n",
    "\n",
    "    return res   "
   ]
  },
  {
   "cell_type": "code",
   "execution_count": 70,
   "metadata": {},
   "outputs": [
    {
     "name": "stderr",
     "output_type": "stream",
     "text": [
      "/home/gennady/anaconda3/lib/python3.7/site-packages/sklearn/feature_extraction/text.py:300: UserWarning: Your stop_words may be inconsistent with your preprocessing. Tokenizing the stop words generated tokens ['хотел'] not in stop_words.\n",
      "  'stop_words.' % sorted(inconsistent))\n",
      "/home/gennady/anaconda3/lib/python3.7/site-packages/sklearn/feature_extraction/text.py:300: UserWarning: Your stop_words may be inconsistent with your preprocessing. Tokenizing the stop words generated tokens ['хотел'] not in stop_words.\n",
      "  'stop_words.' % sorted(inconsistent))\n"
     ]
    }
   ],
   "source": [
    "train_each_vect = vectorizer_for_each_group(train_data_lemma)\n",
    "test_each_vect = vectorizer_for_each_group(test_data_lemma)"
   ]
  },
  {
   "cell_type": "code",
   "execution_count": 71,
   "metadata": {},
   "outputs": [],
   "source": [
    "train_each_vect_filt, train_each_vect_zero = filter_groups(train_each_vect)\n",
    "test_each_vect_filt, test_each_vect_zero = filter_groups(test_each_vect)"
   ]
  },
  {
   "cell_type": "code",
   "execution_count": 72,
   "metadata": {},
   "outputs": [],
   "source": [
    "param_scores = []\n",
    "for param in clustering_param:\n",
    "    scores, mean_score = analyze_cluster(\n",
    "        perform_cluster_groups(train_each_vect_filt, param))\n",
    "    param_scores.append(mean_score)"
   ]
  },
  {
   "cell_type": "code",
   "execution_count": 73,
   "metadata": {},
   "outputs": [
    {
     "data": {
      "text/plain": [
       "{'metric': 'cityblock', 'linkage': 'single'}"
      ]
     },
     "execution_count": 73,
     "metadata": {},
     "output_type": "execute_result"
    }
   ],
   "source": [
    "best_params = clustering_param[np.argmax(param_scores)]\n",
    "best_params"
   ]
  },
  {
   "cell_type": "code",
   "execution_count": 75,
   "metadata": {},
   "outputs": [],
   "source": [
    "train_each_vect_cluster = perform_cluster_groups(train_each_vect_filt,\n",
    "                                                 best_params)"
   ]
  },
  {
   "cell_type": "code",
   "execution_count": 76,
   "metadata": {},
   "outputs": [],
   "source": [
    "scores, mean_score = analyze_cluster(train_each_vect_cluster)"
   ]
  },
  {
   "cell_type": "code",
   "execution_count": 77,
   "metadata": {
    "scrolled": false
   },
   "outputs": [
    {
     "data": {
      "text/plain": [
       "0.4268854729004368"
      ]
     },
     "execution_count": 77,
     "metadata": {},
     "output_type": "execute_result"
    }
   ],
   "source": [
    "mean_score"
   ]
  },
  {
   "cell_type": "code",
   "execution_count": 78,
   "metadata": {},
   "outputs": [],
   "source": [
    "train_merge_res = merge_results(train_each_vect_cluster, train_each_vect_zero)"
   ]
  },
  {
   "cell_type": "code",
   "execution_count": 79,
   "metadata": {},
   "outputs": [],
   "source": [
    "scores, mean_score = analyze_cluster(train_merge_res)"
   ]
  },
  {
   "cell_type": "code",
   "execution_count": 80,
   "metadata": {},
   "outputs": [
    {
     "data": {
      "text/plain": [
       "0.3612416580832499"
      ]
     },
     "execution_count": 80,
     "metadata": {},
     "output_type": "execute_result"
    }
   ],
   "source": [
    "mean_score"
   ]
  },
  {
   "cell_type": "markdown",
   "metadata": {},
   "source": [
    "Опять посмотрим на дендрограммы"
   ]
  },
  {
   "cell_type": "code",
   "execution_count": 81,
   "metadata": {},
   "outputs": [],
   "source": [
    "max_cluster, min_cluster = \\\n",
    "    max(scores.items(), key=lambda x: x[1]),\\\n",
    "    min(scores.items(), key=lambda x: x[1])"
   ]
  },
  {
   "cell_type": "code",
   "execution_count": 97,
   "metadata": {
    "scrolled": false
   },
   "outputs": [
    {
     "data": {
      "text/plain": [
       "Text(0.5, 1.0, 'Cluster 77 with max F1-score = 0.98')"
      ]
     },
     "execution_count": 97,
     "metadata": {},
     "output_type": "execute_result"
    },
    {
     "data": {
      "image/png": "[encoded data removed]",
      "text/plain": [
       "<Figure size 720x576 with 1 Axes>"
      ]
     },
     "metadata": {
      "needs_background": "light"
     },
     "output_type": "display_data"
    }
   ],
   "source": [
    "plt.figure(figsize=(10, 8))\n",
    "dendrogram(train_each_vect_cluster[max_cluster[0]][1])\n",
    "plt.title(f'Cluster {max_cluster[0]} with max F1-score = {max_cluster[1]:.2f}')"
   ]
  },
  {
   "cell_type": "code",
   "execution_count": 98,
   "metadata": {
    "scrolled": false
   },
   "outputs": [
    {
     "data": {
      "text/plain": [
       "Text(0.5, 1.0, 'Cluster 113 with min F1-score = 0.07')"
      ]
     },
     "execution_count": 98,
     "metadata": {},
     "output_type": "execute_result"
    },
    {
     "data": {
      "image/png": "[encoded data removed]",
      "text/plain": [
       "<Figure size 720x576 with 1 Axes>"
      ]
     },
     "metadata": {
      "needs_background": "light"
     },
     "output_type": "display_data"
    }
   ],
   "source": [
    "plt.figure(figsize=(10, 8))\n",
    "dendrogram(train_each_vect_cluster[min_cluster[0]][1])\n",
    "plt.title(f'Cluster {min_cluster[0]} with min F1-score = {min_cluster[1]:.2f}')"
   ]
  },
  {
   "cell_type": "markdown",
   "metadata": {},
   "source": [
    "### Найдем долю различных слов для заголовков каждой из групп"
   ]
  },
  {
   "cell_type": "code",
   "execution_count": 84,
   "metadata": {},
   "outputs": [],
   "source": [
    "def condensed_index_(n, i, j):\n",
    "    if i < j:\n",
    "        return int(n * i - (i * (i + 1) / 2) + (j - i - 1))\n",
    "    elif i > j:\n",
    "        return int(n * j - (j * (j + 1) / 2) + (i - j - 1))\n",
    "    else:\n",
    "        msg = f'Cannot get the distance to the object itself! i = j = {i}'\n",
    "        raise Exception(msg)\n",
    "\n",
    "\n",
    "def diff_words_dist(corpus, normalize=False):\n",
    "    n = len(corpus)\n",
    "    D = np.zeros(n*(n-1)//2)\n",
    "    for i in range(n):\n",
    "        text_i = sklearn_tokenizer(corpus[i])\n",
    "        words_i = set(text_i)\n",
    "\n",
    "        for j in range(n):\n",
    "            if i == j:\n",
    "                continue\n",
    "            text_j = sklearn_tokenizer(corpus[j])\n",
    "            words_j = set(text_j)\n",
    "            dist_ij = len(words_i.intersection(words_j))\n",
    "            if normalize:\n",
    "                dist_ij /= (len(words_i) + len(words_j))\n",
    "            D[condensed_index_(n, i, j)] = dist_ij\n",
    "\n",
    "    return D"
   ]
  },
  {
   "cell_type": "code",
   "execution_count": 85,
   "metadata": {},
   "outputs": [],
   "source": [
    "def diff_word_groups(groups, normalize=False):\n",
    "    res = {}\n",
    "    for group_id in groups:\n",
    "        res[group_id] = diff_words_dist(groups[group_id][1], normalize)\n",
    "    return res        "
   ]
  },
  {
   "cell_type": "code",
   "execution_count": 86,
   "metadata": {},
   "outputs": [],
   "source": [
    "# сжатые матрицы расстояний\n",
    "train_diffword = diff_word_groups(train_data_lemma)"
   ]
  },
  {
   "cell_type": "code",
   "execution_count": 87,
   "metadata": {},
   "outputs": [],
   "source": [
    "param_scores = []\n",
    "for param in clustering_param:\n",
    "    scores, mean_score = analyze_cluster(\n",
    "        perform_cluster_groups(train_each_vect_filt, param))\n",
    "    param_scores.append(mean_score)"
   ]
  },
  {
   "cell_type": "code",
   "execution_count": 88,
   "metadata": {},
   "outputs": [
    {
     "data": {
      "text/plain": [
       "{'metric': 'cityblock', 'linkage': 'single'}"
      ]
     },
     "execution_count": 88,
     "metadata": {},
     "output_type": "execute_result"
    }
   ],
   "source": [
    "best_params = clustering_param[np.argmax(param_scores)]\n",
    "best_params"
   ]
  },
  {
   "cell_type": "code",
   "execution_count": 89,
   "metadata": {},
   "outputs": [],
   "source": [
    "def cluster_diffword(groups, dists):\n",
    "    # ids, tree, preds, target\n",
    "    res = {}\n",
    "    for group_id in groups:\n",
    "        ids = groups[group_id][0]\n",
    "        target = None\n",
    "        if len(groups[group_id]) > 2:\n",
    "            target = groups[group_id][2]\n",
    "\n",
    "        cluster = Clustering(**best_params)\n",
    "        preds = cluster.fit_predict(ids, dist_matrix=dists[group_id])\n",
    "\n",
    "        if target.any():\n",
    "            res[group_id] = (ids, cluster.Z, preds, target)\n",
    "        else:\n",
    "            res[group_id] = (ids, cluster.Z, preds)\n",
    "    return res"
   ]
  },
  {
   "cell_type": "code",
   "execution_count": 90,
   "metadata": {},
   "outputs": [],
   "source": [
    "train_cluster_diffword = cluster_diffword(train_data_lemma, train_diffword)"
   ]
  },
  {
   "cell_type": "code",
   "execution_count": 91,
   "metadata": {},
   "outputs": [],
   "source": [
    "scores, mean_score = analyze_cluster(train_cluster_diffword)"
   ]
  },
  {
   "cell_type": "code",
   "execution_count": 92,
   "metadata": {},
   "outputs": [
    {
     "data": {
      "text/plain": [
       "0.37351145114077855"
      ]
     },
     "execution_count": 92,
     "metadata": {},
     "output_type": "execute_result"
    }
   ],
   "source": [
    "mean_score"
   ]
  },
  {
   "cell_type": "markdown",
   "metadata": {},
   "source": [
    "Опять посмотрим на дендрограммы"
   ]
  },
  {
   "cell_type": "code",
   "execution_count": 93,
   "metadata": {},
   "outputs": [],
   "source": [
    "max_cluster, min_cluster = \\\n",
    "    max(scores.items(), key=lambda x: x[1]),\\\n",
    "    min(scores.items(), key=lambda x: x[1])"
   ]
  },
  {
   "cell_type": "code",
   "execution_count": 94,
   "metadata": {
    "scrolled": false
   },
   "outputs": [
    {
     "data": {
      "text/plain": [
       "Text(0.5, 1.0, 'Group 77 with max F1-score = 0.98')"
      ]
     },
     "execution_count": 94,
     "metadata": {},
     "output_type": "execute_result"
    },
    {
     "data": {
      "image/png": "[encoded data removed]",
      "text/plain": [
       "<Figure size 720x576 with 1 Axes>"
      ]
     },
     "metadata": {
      "needs_background": "light"
     },
     "output_type": "display_data"
    }
   ],
   "source": [
    "plt.figure(figsize=(10, 8))\n",
    "dendrogram(train_cluster_diffword[max_cluster[0]][1])\n",
    "plt.title(f'Group {max_cluster[0]} with max F1-score = {max_cluster[1]:.2f}')"
   ]
  },
  {
   "cell_type": "code",
   "execution_count": 103,
   "metadata": {
    "scrolled": false
   },
   "outputs": [
    {
     "data": {
      "text/plain": [
       "Text(0.5, 1.0, 'Group 113 with min F1-score = 0.07')"
      ]
     },
     "execution_count": 103,
     "metadata": {},
     "output_type": "execute_result"
    },
    {
     "data": {
      "image/png": "[encoded data removed]",
      "text/plain": [
       "<Figure size 864x576 with 1 Axes>"
      ]
     },
     "metadata": {
      "needs_background": "light"
     },
     "output_type": "display_data"
    }
   ],
   "source": [
    "plt.figure(figsize=(12, 8))\n",
    "dendrogram(train_cluster_diffword[min_cluster[0]][1])\n",
    "plt.title(f'Group {min_cluster[0]} with min F1-score = {min_cluster[1]:.2f}')"
   ]
  },
  {
   "cell_type": "markdown",
   "metadata": {},
   "source": [
    "По мнению алгоритма, тут большинство объектов находятся в одном кластере"
   ]
  },
  {
   "cell_type": "markdown",
   "metadata": {},
   "source": [
    "## Выводы"
   ]
  },
  {
   "cell_type": "markdown",
   "metadata": {},
   "source": [
    "1. Наилучшим образом показало манхэттеновское расстояние и sinle linkage\n",
    "\n",
    "2. ~0.37\n",
    "\n",
    "3. Метки кластеров можно использовать в качестве признака."
   ]
  },
  {
   "cell_type": "markdown",
   "metadata": {},
   "source": [
    "Какой вывод еще можно сделать: использование tf-idf векторов, полученных на всем корпусе текстов, дает лучший результат по сравнению с векторами, полученными отдельно для каждой из групп. При этом использование числа общих слов в качестве функции расстояния дает лучший результат, чем tf-idf"
   ]
  },
  {
   "cell_type": "markdown",
   "metadata": {},
   "source": [
    "Здесь Вы можете оставить отзыв о этой домашней работе или о всем курсе.   "
   ]
  },
  {
   "cell_type": "markdown",
   "metadata": {},
   "source": [
    "*** ВАШ ОТЗЫВ ЗДЕСЬ***"
   ]
  },
  {
   "cell_type": "markdown",
   "metadata": {
    "collapsed": true
   },
   "source": []
  },
  {
   "cell_type": "markdown",
   "metadata": {
    "collapsed": true
   },
   "source": []
  }
 ],
 "metadata": {
  "anaconda-cloud": {},
  "kernelspec": {
   "display_name": "Python 3",
   "language": "python",
   "name": "python3"
  },
  "language_info": {
   "codemirror_mode": {
    "name": "ipython",
    "version": 3
   },
   "file_extension": ".py",
   "mimetype": "text/x-python",
   "name": "python",
   "nbconvert_exporter": "python",
   "pygments_lexer": "ipython3",
   "version": "3.7.3"
  },
  "toc": {
   "base_numbering": 1,
   "nav_menu": {},
   "number_sections": true,
   "sideBar": true,
   "skip_h1_title": false,
   "title_cell": "Table of Contents",
   "title_sidebar": "Contents",
   "toc_cell": false,
   "toc_position": {
    "height": "calc(100% - 180px)",
    "left": "10px",
    "top": "150px",
    "width": "250.75px"
   },
   "toc_section_display": true,
   "toc_window_display": true
  }
 },
 "nbformat": 4,
 "nbformat_minor": 1
}
