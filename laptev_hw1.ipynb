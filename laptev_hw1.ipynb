{
 "cells": [
  {
   "cell_type": "markdown",
   "metadata": {},
   "source": [
    "**Общая информация**\n",
    "\n",
    "**Срок сдачи:** 21 октября 2019, 08:30 \n",
    "\n",
    "**Штраф за опоздание:** по 0.5 балла за 24 часа задержки. Через 10 дней домашнее задание сгорает.\n",
    "\n",
    "При отправлении ДЗ указывайте фамилию в названии файла\n",
    "Присылать ДЗ необходимо в виде ссылки на свой github репозиторий на почту ml1.sphere@mail.ru с указанием темы в следующем формате:\n",
    "\n",
    "[ML0919, Задание 1] Фамилия Имя.\n",
    "\n",
    "Используйте данный Ipython Notebook при оформлении домашнего задания."
   ]
  },
  {
   "cell_type": "markdown",
   "metadata": {},
   "source": [
    "\n",
    "**Штрафные баллы:**\n",
    "\n",
    "1. Невыполнение PEP8 -0.5 баллов\n",
    "2. Отсутствие фамилии в имени скрипта (скрипт должен называться по аналогии со stroykova_hw1.ipynb) -0.5 баллов\n",
    "3. Все строчки должны быть выполнены. Нужно, чтобы output команды можно было увидеть уже в git'е. В противном случае -0.5 баллов\n"
   ]
  },
  {
   "cell_type": "code",
   "execution_count": 223,
   "metadata": {
    "scrolled": true
   },
   "outputs": [
    {
     "name": "stdout",
     "output_type": "stream",
     "text": [
      "The pycodestyle_magic extension is already loaded. To reload it, use:\n",
      "  %reload_ext pycodestyle_magic\n"
     ]
    }
   ],
   "source": [
    "import warnings\n",
    "warnings.filterwarnings(\"ignore\")\n",
    "\n",
    "import pandas as pd\n",
    "import numpy as np\n",
    "import matplotlib.pyplot as plt\n",
    "\n",
    "import string\n",
    "from multiprocessing import Pool\n",
    "from functools import partial\n",
    "\n",
    "import seaborn as sns\n",
    "from sklearn import datasets\n",
    "from sklearn.base import ClassifierMixin\n",
    "from sklearn.datasets import fetch_mldata, fetch_20newsgroups\n",
    "\n",
    "from sklearn.metrics.pairwise import cosine_similarity\n",
    "from sklearn.feature_extraction.text import CountVectorizer, TfidfVectorizer\n",
    "from sklearn.neighbors.base import NeighborsBase, KNeighborsMixin, SupervisedIntegerMixin \n",
    "from sklearn.model_selection import train_test_split, StratifiedKFold\n",
    "from sklearn.neighbors import KNeighborsClassifier, KDTree\n",
    "%load_ext pycodestyle_magic"
   ]
  },
  {
   "cell_type": "markdown",
   "metadata": {},
   "source": [
    "##### Задание 1 (1 балл)\n",
    "Реализовать KNN в классе MyKNeighborsClassifier (обязательное условие: точность не ниже sklearn реализации)\n",
    "Разберитесь самостоятельно, какая мера расстояния используется в KNeighborsClassifier дефолтно и реализуйте свой алгоритм именно с этой мерой. Самостоятельно разберитесь, как считается score из KNeighborsClassifier и реализуйте аналог в своём классе. Score не должен уступать значению KNN из sklearn"
   ]
  },
  {
   "cell_type": "code",
   "execution_count": 254,
   "metadata": {},
   "outputs": [],
   "source": [
    "%%pycodestyle\n",
    "\n",
    "\n",
    "class MyKNeighborsClassifier(NeighborsBase, KNeighborsMixin,\n",
    "                             SupervisedIntegerMixin, ClassifierMixin):\n",
    "\n",
    "    def __init__(self, n_neighbors, algorithm='brute', leaf_size=40, metric='euclid'):\n",
    "        self.n_neighbors = n_neighbors\n",
    "        self.algorithm = algorithm\n",
    "        self.leaf_size = leaf_size\n",
    "        self.metric = metric\n",
    "\n",
    "    def fit(self, X, y):\n",
    "        self.n_classes = np.unique(y).shape[0]\n",
    "        self.target = y\n",
    "        \n",
    "        if self.algorithm == 'brute':\n",
    "            self.X_train = X\n",
    "            \n",
    "        elif self.algorithm == 'kd_tree':\n",
    "            self.X_train = X\n",
    "            self.tree = KDTree(X, leaf_size=self.leaf_size)\n",
    "        \n",
    "        return self\n",
    "\n",
    "    def _predict(self, X):\n",
    "        # найдем матрицу расстояний\n",
    "        d = self.dist(X)\n",
    "\n",
    "        # вернем индексы k ближ соседей в обучающей выборке\n",
    "        # для каждого объекта из теста\n",
    "        ind = np.argpartition(d, self.n_neighbors,\n",
    "                              axis=1)[:, :self.n_neighbors]\n",
    "\n",
    "        # извлечем метки соседей\n",
    "        nei_labels = self.target[ind]\n",
    "\n",
    "        return nei_labels\n",
    "    \n",
    "    def predict(self, X):\n",
    "        if self.algorithm == 'brute':\n",
    "            nei_labels = self._predict(X)\n",
    "\n",
    "        elif self.algorithm == 'kd_tree':\n",
    "            ind = self.tree.query(X, k=self.n_neighbors, return_distance=False)\n",
    "            nei_labels = self.target[ind]\n",
    "        \n",
    "        return np.apply_along_axis(lambda x: np.argmax(np.bincount(x)),\n",
    "                                   1, nei_labels)\n",
    "\n",
    "    def _class_counts(self, x):\n",
    "        counts = np.zeros(self.n_classes)\n",
    "        for k in range(self.n_classes):\n",
    "            counts[k] = np.where(x == k)[0].shape[0]\n",
    "        return counts / self.n_neighbors\n",
    "    \n",
    "    def predict_proba(self, X):\n",
    "        # Оценка вероятности принадлежности :\n",
    "        # к классу K\n",
    "        # число соседей с классом K / число соседей\n",
    "        \n",
    "        if self.algorithm == 'brute':\n",
    "            nei_labels = self._predict(X)\n",
    "\n",
    "        elif self.algorithm == 'kd_tree':\n",
    "            _, ind = self.tree.query(X, k=self.n_neighbors)\n",
    "            nei_labels = self.target[ind]\n",
    "\n",
    "        y_proba = np.apply_along_axis(self._class_counts, 1, nei_labels)\n",
    "        return y_proba\n",
    "\n",
    "    def score(self, X, y):\n",
    "        # посчитаем accuracy т.е.\n",
    "        # число верных предсказаний / общее число предсказаний\n",
    "        y_pred = self.predict(X)\n",
    "        return np.sum(y_pred == y) / y.shape[0]\n",
    "\n",
    "    def dist(self, X_test):\n",
    "        if self.metric == 'euclid':\n",
    "            # Матрица евклидовых расстояний (стандартная метрика в sklearn)\n",
    "            # от кажд точки X_test до каждой точки self.X_train\n",
    "            return np.sqrt(np.sum(X_test**2, axis=1)[:, np.newaxis] -\n",
    "                           2*(X_test @ self.X_train.T) +\n",
    "                           np.sum(self.X_train**2, axis=1))\n",
    "        elif self.metric == 'cosine':\n",
    "            # ставим минус, ибо чем меньше косинусное расстояние,\n",
    "            # тем объект \"дальше\" (менее похож)\n",
    "            return -cosine_similarity(X_test, self.X_train)"
   ]
  },
  {
   "cell_type": "markdown",
   "metadata": {},
   "source": [
    "**IRIS**\n",
    "\n",
    "В библиотеке scikit-learn есть несколько датасетов из коробки. Один из них [Ирисы Фишера](https://ru.wikipedia.org/wiki/%D0%98%D1%80%D0%B8%D1%81%D1%8B_%D0%A4%D0%B8%D1%88%D0%B5%D1%80%D0%B0)"
   ]
  },
  {
   "cell_type": "code",
   "execution_count": 113,
   "metadata": {},
   "outputs": [],
   "source": [
    "iris = datasets.load_iris()"
   ]
  },
  {
   "cell_type": "code",
   "execution_count": 114,
   "metadata": {},
   "outputs": [],
   "source": [
    "X_train, X_test, y_train, y_test = train_test_split(iris.data, iris.target, test_size=0.1, stratify=iris.target)"
   ]
  },
  {
   "cell_type": "code",
   "execution_count": 115,
   "metadata": {},
   "outputs": [],
   "source": [
    "clf = KNeighborsClassifier(n_neighbors=2, algorithm='brute')\n",
    "my_clf = MyKNeighborsClassifier(n_neighbors=2, algorithm='brute')"
   ]
  },
  {
   "cell_type": "code",
   "execution_count": 116,
   "metadata": {},
   "outputs": [
    {
     "data": {
      "text/plain": [
       "MyKNeighborsClassifier(algorithm='brute', leaf_size=40, metric='euclid',\n",
       "                       n_neighbors=2)"
      ]
     },
     "execution_count": 116,
     "metadata": {},
     "output_type": "execute_result"
    }
   ],
   "source": [
    "clf.fit(X_train, y_train)\n",
    "my_clf.fit(X_train, y_train)"
   ]
  },
  {
   "cell_type": "code",
   "execution_count": 117,
   "metadata": {},
   "outputs": [],
   "source": [
    "assert abs(my_clf.score(X_test, y_test) - clf.score(X_test,y_test))<0.005, \"Score must be simillar\""
   ]
  },
  {
   "cell_type": "markdown",
   "metadata": {},
   "source": [
    "**Задание 2 (0.5 балла)**\n",
    "\n",
    "Давайте попробуем добиться скорости работы на fit, predict и predict_proba сравнимой со sklearn для iris.\n",
    "Для этого используем numpy"
   ]
  },
  {
   "cell_type": "code",
   "execution_count": 118,
   "metadata": {},
   "outputs": [
    {
     "name": "stdout",
     "output_type": "stream",
     "text": [
      "CPU times: user 0 ns, sys: 0 ns, total: 0 ns\n",
      "Wall time: 456 µs\n"
     ]
    },
    {
     "data": {
      "text/plain": [
       "KNeighborsClassifier(algorithm='brute', leaf_size=30, metric='minkowski',\n",
       "                     metric_params=None, n_jobs=None, n_neighbors=2, p=2,\n",
       "                     weights='uniform')"
      ]
     },
     "execution_count": 118,
     "metadata": {},
     "output_type": "execute_result"
    }
   ],
   "source": [
    "%time clf.fit(X_train, y_train)"
   ]
  },
  {
   "cell_type": "code",
   "execution_count": 119,
   "metadata": {},
   "outputs": [
    {
     "name": "stdout",
     "output_type": "stream",
     "text": [
      "CPU times: user 0 ns, sys: 0 ns, total: 0 ns\n",
      "Wall time: 115 µs\n"
     ]
    },
    {
     "data": {
      "text/plain": [
       "MyKNeighborsClassifier(algorithm='brute', leaf_size=40, metric='euclid',\n",
       "                       n_neighbors=2)"
      ]
     },
     "execution_count": 119,
     "metadata": {},
     "output_type": "execute_result"
    }
   ],
   "source": [
    "%time my_clf.fit(X_train, y_train)"
   ]
  },
  {
   "cell_type": "code",
   "execution_count": 120,
   "metadata": {},
   "outputs": [
    {
     "name": "stdout",
     "output_type": "stream",
     "text": [
      "CPU times: user 4 ms, sys: 0 ns, total: 4 ms\n",
      "Wall time: 1.84 ms\n"
     ]
    },
    {
     "data": {
      "text/plain": [
       "array([0, 1, 0, 1, 0, 2, 1, 2, 1, 2, 0, 2, 2, 0, 2])"
      ]
     },
     "execution_count": 120,
     "metadata": {},
     "output_type": "execute_result"
    }
   ],
   "source": [
    "%time clf.predict(X_test)"
   ]
  },
  {
   "cell_type": "code",
   "execution_count": 121,
   "metadata": {},
   "outputs": [
    {
     "name": "stdout",
     "output_type": "stream",
     "text": [
      "CPU times: user 4 ms, sys: 0 ns, total: 4 ms\n",
      "Wall time: 667 µs\n"
     ]
    },
    {
     "data": {
      "text/plain": [
       "array([0, 1, 0, 1, 0, 2, 1, 2, 1, 2, 0, 2, 2, 0, 2])"
      ]
     },
     "execution_count": 121,
     "metadata": {},
     "output_type": "execute_result"
    }
   ],
   "source": [
    "%time my_clf.predict(X_test)"
   ]
  },
  {
   "cell_type": "code",
   "execution_count": 122,
   "metadata": {},
   "outputs": [
    {
     "name": "stdout",
     "output_type": "stream",
     "text": [
      "CPU times: user 4 ms, sys: 0 ns, total: 4 ms\n",
      "Wall time: 824 µs\n"
     ]
    },
    {
     "data": {
      "text/plain": [
       "array([[1., 0., 0.],\n",
       "       [0., 1., 0.],\n",
       "       [1., 0., 0.],\n",
       "       [0., 1., 0.],\n",
       "       [1., 0., 0.],\n",
       "       [0., 0., 1.],\n",
       "       [0., 1., 0.],\n",
       "       [0., 0., 1.],\n",
       "       [0., 1., 0.],\n",
       "       [0., 0., 1.],\n",
       "       [1., 0., 0.],\n",
       "       [0., 0., 1.],\n",
       "       [0., 0., 1.],\n",
       "       [1., 0., 0.],\n",
       "       [0., 0., 1.]])"
      ]
     },
     "execution_count": 122,
     "metadata": {},
     "output_type": "execute_result"
    }
   ],
   "source": [
    "%time clf.predict_proba(X_test)"
   ]
  },
  {
   "cell_type": "code",
   "execution_count": 123,
   "metadata": {},
   "outputs": [
    {
     "name": "stdout",
     "output_type": "stream",
     "text": [
      "CPU times: user 0 ns, sys: 0 ns, total: 0 ns\n",
      "Wall time: 861 µs\n"
     ]
    },
    {
     "data": {
      "text/plain": [
       "array([[1., 0., 0.],\n",
       "       [0., 1., 0.],\n",
       "       [1., 0., 0.],\n",
       "       [0., 1., 0.],\n",
       "       [1., 0., 0.],\n",
       "       [0., 0., 1.],\n",
       "       [0., 1., 0.],\n",
       "       [0., 0., 1.],\n",
       "       [0., 1., 0.],\n",
       "       [0., 0., 1.],\n",
       "       [1., 0., 0.],\n",
       "       [0., 0., 1.],\n",
       "       [0., 0., 1.],\n",
       "       [1., 0., 0.],\n",
       "       [0., 0., 1.]])"
      ]
     },
     "execution_count": 123,
     "metadata": {},
     "output_type": "execute_result"
    }
   ],
   "source": [
    "%time my_clf.predict_proba(X_test)"
   ]
  },
  {
   "cell_type": "markdown",
   "metadata": {},
   "source": [
    "###### Задание 3 (1 балл)\n",
    "Добавьте algorithm='kd_tree' в реализацию KNN (использовать KDTree из sklearn.neighbors). Необходимо добиться скорости работы на fit,  predict и predict_proba сравнимой со sklearn для iris.\n",
    "Для этого используем numpy. Score не должен уступать значению KNN из sklearn"
   ]
  },
  {
   "cell_type": "code",
   "execution_count": 124,
   "metadata": {},
   "outputs": [],
   "source": [
    "clf = KNeighborsClassifier(n_neighbors=2, algorithm='kd_tree')\n",
    "my_clf = MyKNeighborsClassifier(n_neighbors=2, algorithm='kd_tree')"
   ]
  },
  {
   "cell_type": "code",
   "execution_count": 125,
   "metadata": {},
   "outputs": [],
   "source": [
    "X_train, X_test, y_train, y_test = train_test_split(iris.data, iris.target, test_size=0.1, stratify=iris.target)"
   ]
  },
  {
   "cell_type": "code",
   "execution_count": 126,
   "metadata": {},
   "outputs": [
    {
     "name": "stdout",
     "output_type": "stream",
     "text": [
      "CPU times: user 0 ns, sys: 0 ns, total: 0 ns\n",
      "Wall time: 683 µs\n"
     ]
    },
    {
     "data": {
      "text/plain": [
       "KNeighborsClassifier(algorithm='kd_tree', leaf_size=30, metric='minkowski',\n",
       "                     metric_params=None, n_jobs=None, n_neighbors=2, p=2,\n",
       "                     weights='uniform')"
      ]
     },
     "execution_count": 126,
     "metadata": {},
     "output_type": "execute_result"
    }
   ],
   "source": [
    "%time clf.fit(X_train, y_train)"
   ]
  },
  {
   "cell_type": "code",
   "execution_count": 127,
   "metadata": {},
   "outputs": [
    {
     "name": "stdout",
     "output_type": "stream",
     "text": [
      "CPU times: user 0 ns, sys: 0 ns, total: 0 ns\n",
      "Wall time: 299 µs\n"
     ]
    },
    {
     "data": {
      "text/plain": [
       "MyKNeighborsClassifier(algorithm='kd_tree', leaf_size=40, metric='euclid',\n",
       "                       n_neighbors=2)"
      ]
     },
     "execution_count": 127,
     "metadata": {},
     "output_type": "execute_result"
    }
   ],
   "source": [
    "%time my_clf.fit(X_train, y_train)"
   ]
  },
  {
   "cell_type": "code",
   "execution_count": 128,
   "metadata": {},
   "outputs": [
    {
     "name": "stdout",
     "output_type": "stream",
     "text": [
      "CPU times: user 0 ns, sys: 0 ns, total: 0 ns\n",
      "Wall time: 1.9 ms\n"
     ]
    },
    {
     "data": {
      "text/plain": [
       "array([0, 0, 1, 2, 2, 2, 1, 2, 1, 0, 0, 0, 1, 1, 2])"
      ]
     },
     "execution_count": 128,
     "metadata": {},
     "output_type": "execute_result"
    }
   ],
   "source": [
    "%time clf.predict(X_test)"
   ]
  },
  {
   "cell_type": "code",
   "execution_count": 129,
   "metadata": {},
   "outputs": [
    {
     "name": "stdout",
     "output_type": "stream",
     "text": [
      "CPU times: user 0 ns, sys: 0 ns, total: 0 ns\n",
      "Wall time: 578 µs\n"
     ]
    },
    {
     "data": {
      "text/plain": [
       "array([0, 0, 1, 2, 2, 2, 1, 2, 1, 0, 0, 0, 1, 1, 2])"
      ]
     },
     "execution_count": 129,
     "metadata": {},
     "output_type": "execute_result"
    }
   ],
   "source": [
    "%time my_clf.predict(X_test)"
   ]
  },
  {
   "cell_type": "code",
   "execution_count": 130,
   "metadata": {},
   "outputs": [
    {
     "name": "stdout",
     "output_type": "stream",
     "text": [
      "CPU times: user 0 ns, sys: 0 ns, total: 0 ns\n",
      "Wall time: 801 µs\n"
     ]
    },
    {
     "data": {
      "text/plain": [
       "array([[1., 0., 0.],\n",
       "       [1., 0., 0.],\n",
       "       [0., 1., 0.],\n",
       "       [0., 0., 1.],\n",
       "       [0., 0., 1.],\n",
       "       [0., 0., 1.],\n",
       "       [0., 1., 0.],\n",
       "       [0., 0., 1.],\n",
       "       [0., 1., 0.],\n",
       "       [1., 0., 0.],\n",
       "       [1., 0., 0.],\n",
       "       [1., 0., 0.],\n",
       "       [0., 1., 0.],\n",
       "       [0., 1., 0.],\n",
       "       [0., 0., 1.]])"
      ]
     },
     "execution_count": 130,
     "metadata": {},
     "output_type": "execute_result"
    }
   ],
   "source": [
    "%time clf.predict_proba(X_test)"
   ]
  },
  {
   "cell_type": "code",
   "execution_count": 131,
   "metadata": {},
   "outputs": [
    {
     "name": "stdout",
     "output_type": "stream",
     "text": [
      "CPU times: user 4 ms, sys: 0 ns, total: 4 ms\n",
      "Wall time: 1.14 ms\n"
     ]
    },
    {
     "data": {
      "text/plain": [
       "array([[1., 0., 0.],\n",
       "       [1., 0., 0.],\n",
       "       [0., 1., 0.],\n",
       "       [0., 0., 1.],\n",
       "       [0., 0., 1.],\n",
       "       [0., 0., 1.],\n",
       "       [0., 1., 0.],\n",
       "       [0., 0., 1.],\n",
       "       [0., 1., 0.],\n",
       "       [1., 0., 0.],\n",
       "       [1., 0., 0.],\n",
       "       [1., 0., 0.],\n",
       "       [0., 1., 0.],\n",
       "       [0., 1., 0.],\n",
       "       [0., 0., 1.]])"
      ]
     },
     "execution_count": 131,
     "metadata": {},
     "output_type": "execute_result"
    }
   ],
   "source": [
    "%time my_clf.predict_proba(X_test)"
   ]
  },
  {
   "cell_type": "code",
   "execution_count": 132,
   "metadata": {},
   "outputs": [],
   "source": [
    "assert abs(my_clf.score(X_test, y_test) - clf.score(X_test,y_test))<0.005, \"Score must be simillar\""
   ]
  },
  {
   "cell_type": "markdown",
   "metadata": {},
   "source": [
    "**Задание 4 (2.5 балла)**\n",
    "\n",
    "Рассмотрим новый датасет 20 newsgroups"
   ]
  },
  {
   "cell_type": "code",
   "execution_count": 133,
   "metadata": {},
   "outputs": [],
   "source": [
    "newsgroups = fetch_20newsgroups(subset='train',remove=['headers','footers', 'quotes'])"
   ]
  },
  {
   "cell_type": "code",
   "execution_count": 134,
   "metadata": {},
   "outputs": [],
   "source": [
    "data = newsgroups['data']\n",
    "target = newsgroups['target']"
   ]
  },
  {
   "cell_type": "markdown",
   "metadata": {},
   "source": [
    "Переведите во всех документах все буквы в нижний регистр и замените во всех документах символы, не\n",
    "являющиеся буквами и цифрами, на пробелы. Далее разбейте текста по пробельным символам на токены(термы/слова). Удалите текста, содержащие только пробелы."
   ]
  },
  {
   "cell_type": "code",
   "execution_count": 135,
   "metadata": {},
   "outputs": [],
   "source": [
    "# data_tok should be a list of lists of tokens for each line in data.\n",
    "def tokenize_text(data, target):\n",
    "    p2s = str.maketrans(string.punctuation+string.digits, \" \"*len(string.punctuation+string.digits))\n",
    "    filter_char = lambda s: \"\".join([c if 'a' <= c <= 'z' else ' ' for c in s])\n",
    "    data_tok = [filter_char(s.lower()).split() for s in data]\n",
    "    \n",
    "    target_ = []\n",
    "    data_tok_ = []\n",
    "    for i, s in enumerate(data_tok):\n",
    "        if len(s) > 0:\n",
    "            target_.append(target[i])\n",
    "            data_tok_.append(s)\n",
    "\n",
    "    target_ = np.array(target_).astype(np.int32)\n",
    "    \n",
    "    return data_tok_, target_"
   ]
  },
  {
   "cell_type": "code",
   "execution_count": 136,
   "metadata": {},
   "outputs": [],
   "source": [
    "data_tok, target = tokenize_text(data, target)"
   ]
  },
  {
   "cell_type": "code",
   "execution_count": 137,
   "metadata": {},
   "outputs": [],
   "source": [
    "assert all(isinstance(row, (list, tuple)) for row in data_tok), \"please convert each line into a list of tokens (strings)\"\n",
    "assert all(all(isinstance(tok, str) for tok in row) for row in data_tok), \"please convert each line into a list of tokens (strings)\"\n",
    "is_latin = lambda tok: all('a' <= x.lower() <= 'z' for x in tok)\n",
    "assert all(map(lambda l: not is_latin(l) or l.islower() , map(' '.join, data_tok))), \"please make sure that you lowercase the data and drop spaced texts\""
   ]
  },
  {
   "cell_type": "markdown",
   "metadata": {},
   "source": [
    "Преобразуйте датасет в разреженную матрицу scipy.sparse.csr_matrix, где значение x в позиции (i, j)\n",
    "означает, что в документе i слово j встретилось x раз"
   ]
  },
  {
   "cell_type": "code",
   "execution_count": 138,
   "metadata": {},
   "outputs": [
    {
     "data": {
      "text/plain": [
       "<11004x2905 sparse matrix of type '<class 'numpy.int64'>'\n",
       "\twith 799360 stored elements in Compressed Sparse Row format>"
      ]
     },
     "execution_count": 138,
     "metadata": {},
     "output_type": "execute_result"
    }
   ],
   "source": [
    "# используем CountVectorizer\n",
    "# ограничимся термами, которые встречаются хотя бы 10 раз (т.е. в ~0,5% текстов)\n",
    "count_vect = CountVectorizer(tokenizer=lambda x: x, preprocessor=lambda x: x, min_df=50)\n",
    "news_train = count_vect.fit_transform(data_tok)\n",
    "news_train"
   ]
  },
  {
   "cell_type": "markdown",
   "metadata": {},
   "source": [
    "*Так мы получили векторное представление наших текстов. Значит можно приступать к задаче обучения модели*"
   ]
  },
  {
   "cell_type": "markdown",
   "metadata": {},
   "source": [
    "Реализуйте разбиение выборки для кросс-валидации на 3 фолдах. Разрешено использовать sklearn.cross_validation"
   ]
  },
  {
   "cell_type": "code",
   "execution_count": 139,
   "metadata": {},
   "outputs": [],
   "source": [
    "folds = StratifiedKFold(n_splits=3, random_state=2019)"
   ]
  },
  {
   "cell_type": "markdown",
   "metadata": {},
   "source": [
    "Напишите метод, позволяющий найти оптимальное количество ближайших соседей(дающее максимальный score в среднем на валидации на 3 фолдах).\n",
    "Постройте график зависимости среднего score от количества соседей. Можно рассмотреть число соседей от 1 до 10."
   ]
  },
  {
   "cell_type": "code",
   "execution_count": 209,
   "metadata": {},
   "outputs": [],
   "source": [
    "# функция для оценки accuracy для\n",
    "# фикс. числа соседей по кросс-валидации\n",
    "def score_k(k, X_train, target, folds, metric='euclid'):\n",
    "    \n",
    "    res = []    \n",
    "    print(f'Number of neighbors: {k}')\n",
    "    for n, (tr_ind, val_ind) in enumerate(folds.split(X_train, target)):\n",
    "        model = MyKNeighborsClassifier(n_neighbors=k, algorithm='brute', metric=metric)\n",
    "        model.fit(X_train[tr_ind].toarray(), target[tr_ind])\n",
    "        res.append(model.score(X_train[val_ind].toarray(), target[val_ind]))\n",
    "\n",
    "    res.append(np.mean(res))\n",
    "    \n",
    "    return {k: res}"
   ]
  },
  {
   "cell_type": "code",
   "execution_count": 210,
   "metadata": {},
   "outputs": [],
   "source": [
    "# функция для параллельного поиска опт. числа соседей\n",
    "def grid_k(X_train, target, folds, params, metric='euclid'):\n",
    "    \n",
    "    partial_score_euclid = partial(score_k, \n",
    "                               X_train=X_train, \n",
    "                               target=target, \n",
    "                               folds=folds,\n",
    "                               metric=metric\n",
    "                              )\n",
    "    grid_res = {}\n",
    "    with Pool(10) as p:\n",
    "        for r in p.map(partial_score_euclid, params):\n",
    "            grid_res.update(r)\n",
    "            \n",
    "    return grid_res"
   ]
  },
  {
   "cell_type": "code",
   "execution_count": 161,
   "metadata": {
    "scrolled": true
   },
   "outputs": [
    {
     "name": "stdout",
     "output_type": "stream",
     "text": [
      "Number of neighbors: 1\n",
      "Number of neighbors: 2\n",
      "Number of neighbors: 3\n",
      "Number of neighbors: 4\n",
      "Number of neighbors: 5\n",
      "Number of neighbors: 6\n",
      "Number of neighbors: 7\n",
      "Number of neighbors: 8\n",
      "Number of neighbors: 9\n",
      "Number of neighbors: 10\n",
      "CPU times: user 668 ms, sys: 292 ms, total: 960 ms\n",
      "Wall time: 7min 20s\n"
     ]
    }
   ],
   "source": [
    "%%time\n",
    "params = list(range(1,11))\n",
    "euclid_count_res = grid_k(news_train, target, folds, params, metric='euclid')"
   ]
  },
  {
   "cell_type": "code",
   "execution_count": 238,
   "metadata": {},
   "outputs": [
    {
     "data": {
      "image/png": "[encoded data removed]",
      "text/plain": [
       "<Figure size 432x288 with 1 Axes>"
      ]
     },
     "metadata": {
      "needs_background": "light"
     },
     "output_type": "display_data"
    }
   ],
   "source": [
    "sns.barplot(params, [euclid_count_res[k][-1] for k in params])\n",
    "plt.title('Средний accuracy по трем фолдам; euclid, count vectorizer')\n",
    "plt.xlabel('Число соседей')\n",
    "plt.ylabel('Accuracy')\n",
    "plt.grid()"
   ]
  },
  {
   "cell_type": "markdown",
   "metadata": {},
   "source": [
    "Как изменится качество на валидации, если:\n",
    "\n",
    "1. Используется косинусная метрика вместо евклидовой.\n",
    "2. К текстам применяется TfIdf преобразование( sklearn.feature_extraction.text.TfidfTransformer)\n",
    "\n",
    "Сравните модели, выберите лучшую."
   ]
  },
  {
   "cell_type": "code",
   "execution_count": 162,
   "metadata": {},
   "outputs": [
    {
     "name": "stdout",
     "output_type": "stream",
     "text": [
      "Number of neighbors: 1\n",
      "Number of neighbors: 2\n",
      "Number of neighbors: 3\n",
      "Number of neighbors: 4\n",
      "Number of neighbors: 5\n",
      "Number of neighbors: 6\n",
      "Number of neighbors: 7\n",
      "Number of neighbors: 8\n",
      "Number of neighbors: 9\n",
      "Number of neighbors: 10\n",
      "CPU times: user 132 ms, sys: 132 ms, total: 264 ms\n",
      "Wall time: 37.5 s\n"
     ]
    }
   ],
   "source": [
    "%%time\n",
    "params = list(range(1,11))\n",
    "cosine_count_res = grid_k(news_train, target, folds, params, metric='cosine')"
   ]
  },
  {
   "cell_type": "code",
   "execution_count": 237,
   "metadata": {},
   "outputs": [
    {
     "data": {
      "image/png": "[encoded data removed]",
      "text/plain": [
       "<Figure size 432x288 with 1 Axes>"
      ]
     },
     "metadata": {
      "needs_background": "light"
     },
     "output_type": "display_data"
    }
   ],
   "source": [
    "sns.barplot(params, [cosine_count_res[k][-1] for k in params])\n",
    "plt.title('Средний accuracy по трем фолдам; cosine, count vectorizer')\n",
    "plt.xlabel('Число соседей')\n",
    "plt.ylabel('Accuracy')\n",
    "plt.grid()"
   ]
  },
  {
   "cell_type": "markdown",
   "metadata": {},
   "source": [
    "Теперь используем TfIdfVectorizer"
   ]
  },
  {
   "cell_type": "code",
   "execution_count": 249,
   "metadata": {},
   "outputs": [
    {
     "data": {
      "text/plain": [
       "(11004, 2905)"
      ]
     },
     "execution_count": 249,
     "metadata": {},
     "output_type": "execute_result"
    }
   ],
   "source": [
    "tfidf = TfidfVectorizer(tokenizer=lambda x: x, preprocessor=lambda x: x, min_df=50)\n",
    "news_train_tfidf = tfidf.fit_transform(data_tok)\n",
    "news_train_tfidf.shape"
   ]
  },
  {
   "cell_type": "code",
   "execution_count": 224,
   "metadata": {
    "scrolled": true
   },
   "outputs": [
    {
     "name": "stdout",
     "output_type": "stream",
     "text": [
      "Number of neighbors: 1\n",
      "Number of neighbors: 2\n",
      "Number of neighbors: 3\n",
      "Number of neighbors: 4\n",
      "Number of neighbors: 5\n",
      "Number of neighbors: 6\n",
      "Number of neighbors: 7\n",
      "Number of neighbors: 8\n",
      "Number of neighbors: 9\n",
      "Number of neighbors: 10\n",
      "CPU times: user 100 ms, sys: 160 ms, total: 260 ms\n",
      "Wall time: 38.7 s\n"
     ]
    }
   ],
   "source": [
    "%%time\n",
    "params = list(range(1,11))\n",
    "euclid_tfidf_res = grid_k(news_train_tfidf, target, folds, params, metric='euclid')"
   ]
  },
  {
   "cell_type": "code",
   "execution_count": 236,
   "metadata": {},
   "outputs": [
    {
     "data": {
      "image/png": "[encoded data removed]",
      "text/plain": [
       "<Figure size 432x288 with 1 Axes>"
      ]
     },
     "metadata": {
      "needs_background": "light"
     },
     "output_type": "display_data"
    }
   ],
   "source": [
    "sns.barplot(params, [euclid_tfidf_res[k][-1] for k in params])\n",
    "plt.title('Средний accuracy по трем фолдам; euclid, tf-idf')\n",
    "plt.xlabel('Число соседей')\n",
    "plt.ylabel('Accuracy')\n",
    "plt.grid()"
   ]
  },
  {
   "cell_type": "code",
   "execution_count": 212,
   "metadata": {
    "scrolled": true
   },
   "outputs": [
    {
     "name": "stdout",
     "output_type": "stream",
     "text": [
      "Number of neighbors: 1\n",
      "Number of neighbors: 2\n",
      "Number of neighbors: 3\n",
      "Number of neighbors: 4\n",
      "Number of neighbors: 5\n",
      "Number of neighbors: 6\n",
      "Number of neighbors: 7\n",
      "Number of neighbors: 8\n",
      "Number of neighbors: 9\n",
      "Number of neighbors: 10\n",
      "CPU times: user 96 ms, sys: 156 ms, total: 252 ms\n",
      "Wall time: 38.4 s\n"
     ]
    }
   ],
   "source": [
    "%%time\n",
    "params = list(range(1,11))\n",
    "cosine_tfidf_res = grid_k(news_train_tfidf, target, folds, params, metric='cosine')"
   ]
  },
  {
   "cell_type": "code",
   "execution_count": 235,
   "metadata": {},
   "outputs": [
    {
     "data": {
      "image/png": "[encoded data removed]",
      "text/plain": [
       "<Figure size 432x288 with 1 Axes>"
      ]
     },
     "metadata": {
      "needs_background": "light"
     },
     "output_type": "display_data"
    }
   ],
   "source": [
    "sns.barplot(params, [cosine_tfidf_res[k][-1] for k in params])\n",
    "plt.title('Средний accuracy по трем фолдам; cosine, tf-idf')\n",
    "plt.xlabel('Число соседей')\n",
    "plt.ylabel('Accuracy')\n",
    "plt.grid()"
   ]
  },
  {
   "cell_type": "markdown",
   "metadata": {},
   "source": [
    "**Соберем общую таблицу**"
   ]
  },
  {
   "cell_type": "code",
   "execution_count": 226,
   "metadata": {},
   "outputs": [],
   "source": [
    "res_table = pd.DataFrame(index=params)\n",
    "res_table['euclid_count_mean_acc'] = [euclid_count_res[k][-1] for k in params]\n",
    "res_table['cosine_count_mean_acc'] = [cosine_count_res[k][-1] for k in params]\n",
    "res_table['euclid_tfidf_mean_acc'] = [euclid_tfidf_res[k][-1] for k in params]\n",
    "res_table['cosine_tfidf_mean_acc'] = [cosine_tfidf_res[k][-1] for k in params]"
   ]
  },
  {
   "cell_type": "code",
   "execution_count": 227,
   "metadata": {},
   "outputs": [
    {
     "data": {
      "text/plain": [
       "euclid_count_mean_acc    0.208284\n",
       "cosine_count_mean_acc    0.274621\n",
       "euclid_tfidf_mean_acc    0.217732\n",
       "cosine_tfidf_mean_acc    0.510081\n",
       "dtype: float64"
      ]
     },
     "execution_count": 227,
     "metadata": {},
     "output_type": "execute_result"
    }
   ],
   "source": [
    "res_table.max()"
   ]
  },
  {
   "cell_type": "code",
   "execution_count": 229,
   "metadata": {},
   "outputs": [
    {
     "data": {
      "text/plain": [
       "9"
      ]
     },
     "execution_count": 229,
     "metadata": {},
     "output_type": "execute_result"
    }
   ],
   "source": [
    "res_table.cosine_tfidf_mean_acc.idxmax()"
   ]
  },
  {
   "cell_type": "markdown",
   "metadata": {},
   "source": [
    "**Лучшая модель**: число соседей = 9, метрика = косинусное расстояние, векторизация = tf-idf"
   ]
  },
  {
   "cell_type": "markdown",
   "metadata": {},
   "source": [
    "Оценим качество(score) вашей лучшей модели на test части датасета. Отличается ли оно от кросс-валидации? Попробуйте сделать выводы, почему отличается качество."
   ]
  },
  {
   "cell_type": "code",
   "execution_count": 250,
   "metadata": {},
   "outputs": [],
   "source": [
    "newsgroups = fetch_20newsgroups(subset='test',remove=['headers','footers', 'quotes'])\n",
    "test_data = newsgroups['data']\n",
    "test_target = newsgroups['target']"
   ]
  },
  {
   "cell_type": "code",
   "execution_count": 251,
   "metadata": {},
   "outputs": [
    {
     "data": {
      "text/plain": [
       "<7307x2905 sparse matrix of type '<class 'numpy.float64'>'\n",
       "\twith 516008 stored elements in Compressed Sparse Row format>"
      ]
     },
     "execution_count": 251,
     "metadata": {},
     "output_type": "execute_result"
    }
   ],
   "source": [
    "test_data, test_target = tokenize_text(test_data, test_target)\n",
    "news_test = tfidf.transform(test_data)\n",
    "news_test"
   ]
  },
  {
   "cell_type": "code",
   "execution_count": 253,
   "metadata": {},
   "outputs": [
    {
     "data": {
      "text/plain": [
       "0.4655809497741891"
      ]
     },
     "execution_count": 253,
     "metadata": {},
     "output_type": "execute_result"
    }
   ],
   "source": [
    "model = MyKNeighborsClassifier(n_neighbors=9, algorithm='brute', metric='cosine')\n",
    "model.fit(news_train_tfidf, target)\n",
    "model.score(news_test, test_target)"
   ]
  },
  {
   "cell_type": "markdown",
   "metadata": {},
   "source": [
    "Видим, что качество на тесте чуть меньше, чем на трейне (0.47 против 0.51). Падение качества связано с тем, что в тесте присутствуют слова, которые не присутствуют в трейне - при векторизации счетчики таких слов обнуляются, поэтому в расчет расстояния до объектов обучающей выборки вносятся искажения."
   ]
  }
 ],
 "metadata": {
  "kernelspec": {
   "display_name": "Python 3",
   "language": "python",
   "name": "python3"
  },
  "language_info": {
   "codemirror_mode": {
    "name": "ipython",
    "version": 3
   },
   "file_extension": ".py",
   "mimetype": "text/x-python",
   "name": "python",
   "nbconvert_exporter": "python",
   "pygments_lexer": "ipython3",
   "version": "3.7.3"
  }
 },
 "nbformat": 4,
 "nbformat_minor": 2
}
